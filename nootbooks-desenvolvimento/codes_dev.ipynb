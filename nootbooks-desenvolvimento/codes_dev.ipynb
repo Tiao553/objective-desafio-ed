{
  "cells": [
    {
      "cell_type": "markdown",
      "metadata": {
        "id": "view-in-github",
        "colab_type": "text"
      },
      "source": [
        "<a href=\"https://colab.research.google.com/github/Tiao553/objective-desafio-ed/blob/main/nootbooks-desenvolvimento/codes_dev.ipynb\" target=\"_parent\"><img src=\"https://colab.research.google.com/assets/colab-badge.svg\" alt=\"Open In Colab\"/></a>"
      ]
    },
    {
      "cell_type": "markdown",
      "metadata": {
        "id": "ay3BR9opu7sG"
      },
      "source": [
        "<img src=\"https://cdn.eleflow.com.br/ef-web/wp-content/uploads/2016/08/21181642/Eleflow.png\" alt=\"Eleflow BigData\" width=\"200\"/>\n",
        "\n",
        "# Data engineering capstone\n",
        "\n",
        "## BigData Airlines\n",
        "\n",
        "A Eleflow irá atender um novo cliente, a _BigData Airlines_, e você será o engenheiro de dados responsável por fazer a ingestão de dados e preparar algumas tabelas para os cientistas de dados e analistas de dados. \n",
        "\n",
        "---\n",
        "\n",
        "## Projeto de desenvolvimento\n",
        "\n",
        "#### Resultado esperado\n",
        "\n",
        "A BigData Airline tem principalmente duas fonte de dados **(1) VRA**  assim como o **(2) AIR_CIA**. Ambas serão utilizadas para construção de duas visualizações que serão utilizadas para análises. Dessa forma teremos como entrega as seguites views:\n",
        "\n",
        "> #### View com as companhias aéreas representando a rota mais utilizada\n",
        "\n",
        "\n",
        "| campo \t            | descrição                           \t|\n",
        "|:-------:\t            |:-------------------------------------:|\n",
        "| companhia      \t    | Razão social da companhia aérea     \t|\n",
        "| aeroporto_origem      | Nome Aeroporto de Origem            \t|\n",
        "| icao_origem      \t    | ICAO do aeroporto de origem       \t|\n",
        "| estado_origem         | Estado/UF do aeroporto de origem  \t|\n",
        "| icao_destino        | Nome do Aeroporto de Destino      \t|\n",
        "| icao_destino   | ICAO do Aeroporto de destino      \t|\n",
        "| estado_destino     | Estado/UF do aeroporto de destino \t|\n",
        "\n",
        "---\n",
        "\n",
        "> #### View com os aeroportos contendo as companhias aérea com maior atuação no ano:\n",
        "\n",
        "| campo \t            | descrição                           \t|\n",
        "|:-------:\t            |:-------------------------------------:|\n",
        "| aeroporto             |  Nome do Aeroporto\t|\n",
        "| icao                  |  ICAO do Aeroporto\t|\n",
        "| companhia             |  Razão social da Companhia Aérea\t|\n",
        "| qtd_rotas_origem     |  Quantidade de Rotas à partir daquele aeroporto\t|\n",
        "| qtd_rotas_destino     |  Quantidade de Rotas com destino àquele aeroporto\t|\n",
        "| qtd_pousos_decolagens |  Quantidade total de pousos e decolagens naquele aeroporto\t|\n",
        "\n",
        "#### Infraestrtura proposta\n",
        "\n",
        "Para que possamos implementar uma infraestrura que irá conseguir atender a atualização incremental dos dados o primeiro ponto é entender a dinâmica de insersão e consumo dos dados de ambas as tabelas. O primeiro ponto é que iremos supor que a inserção dos dados atua com a disponibilização manual deste dados em uma volumetria mensal em ambos os casos. Dessa forma necessitaremos de uma estrutura que consiga monitorar esse deploy deste dado e acionar o processamento dos dados, ou seja:\n",
        "\n",
        "<center>\n",
        "    <img src=\"https://raw.githubusercontent.com/Tiao553/objective-desafio-ed/main/nootbooks-desenvolvimento/img/sensor.png\" alt=\"Diagrama de blocos do processo\" width=\"600\"/>\n",
        "</center>\n",
        "\n",
        "O processo segue a sequencia de camadas onde iremos dividir a evolução do dado em três etapas. Sendo elas (1) Raw/bronze onde o dado deve estar conforme o consumido mantendo-se o mesmo formato e sem nenhum tratamento, (2) trusted/silver nesta etapa devemos garantir a qualidade do dado onde garantiremos que não exista linhas duplicadas, como também garantiremos o esquema correto dos dados e por fim a (3) curated/gold nesta se encontra as view especiais para os analistas em que aplicamos a regras de negócio.\n",
        "\n",
        "<center>\n",
        "    <img src=\"https://raw.githubusercontent.com/Tiao553/objective-desafio-ed/main/nootbooks-desenvolvimento/img/processo.png\" alt=\"Diagrama de blocos do processo\" width=\"1000\"/>\n",
        "</center>\n",
        "\n",
        "Para podemos conseguir utilizar esses processos de forma escalonável e gerenciavel teremos a seguinte arquitetura na cloud da AWS onde gerenciaremos os processos.\n",
        "\n",
        "<center>\n",
        "    <img src=\"https://raw.githubusercontent.com/Tiao553/objective-desafio-ed/main/nootbooks-desenvolvimento/img/infra.png\" alt=\"Diagrama de blocos do processo\" width=\"1200\"/>\n",
        "</center>\n",
        "\n",
        "- Como cluster para processamento e gestão de recursos de forma orquestrada estaremos utilizando o EKS que é o sistema gerenciado de kubernetes na AWS. Dentro deste iremos gerir o Airflow que trata-se de um orquestrador de tarefas onde neste conseguigos agendar tarefas ou garantir que ela execute dado algum evento. Como mecanismo de processsamento, e pensando em escalonamento estaremos utilizando o spark, mas se a volumetria se manter seria possível alocar um python operator no cluster kubernetes e realizar as tratativas via pandas ou dask. Considerando que trabalharemos com spark este possui um workload dentro do kubernetes chamado sparkoperator onde conseguimos rodar aplicações. Para isso precisamos compilar esta em um container e dipobilizar como uma imagem para ser acessível para o spark operator executar. Dessa forma utilizamos a ECR(elastic container registry) que irá salvar as imagens para serem executadas pelo workload.\n",
        "\n",
        "- Os dados serão salvos no diretorio de objetos e de alta disponibilidade que é o S3, dividiremos as camadas por buckets e pensando em redução de custos e otimizar o uso poderemos utilizar nas camadas silver e gold o formato dos arquivos como delta que apresenta maior compressão dos arquivos e versionamento, além de outras features. Para facilitar a leitura deste sem nenhum outro processo de alocação em um banco de dados utilizaremos o athena que é um vizualizador de arquivos com liguagem sql baseada no prestosql.\n",
        "\n",
        "- Para governança e boas praticas as dags que são aonde cada proceso estará alocado e sequenciado a sua execução irão ser alocados em um repositório git onde o própio airflow garante o sincronismo com este direto com a main. Para o processo 1 estaremos alocando o operatorSensor do airflow para verificar no airflow se existem novos arquivos para as tabelas air_cia e vra, onde irá acionar o processo de processamento do processo 2. Neste iremos discorrer neste notebook o processamento das tabelas, como também a criação da tabelas dos aerodromos. Ja no processo 3 iremos gerir os agrupamentos para que possamos disponibilizar no athena.\n",
        "\n",
        "- Para conseguirmos entender o que acontece nos nosso processos estaremos utilizando o sistema de monitoramento de logs o prometheus e disponibolizaremos os resultados com um dashboard no grafana.\n",
        "\n",
        "- Para monitorarmos as metricas do cluster estaremos utilizando o sistema gerenciado da aws o cloudWactch.\n",
        "\n",
        "- E para garantirmos o CD das aplicações no cluster estaremos utilizando o argoCD que é um gerenciador de deployments dentro do cluster kubernetes."
      ]
    },
    {
      "cell_type": "markdown",
      "metadata": {
        "id": "FZZs0HNru7sO"
      },
      "source": [
        "--- \n",
        "\n",
        "# Desenvolvimento\n",
        "\n",
        "\n",
        "\n",
        "\n",
        "---\n",
        "\n",
        "## Setup Geral\n",
        "\n",
        "Se estiver executando este exercício no Google Colab, execute as próximas duas células. \n",
        "\n",
        "Caso esteja executando localmente, não é necessário executar mas certifique-se de que o **pyspark** está instalado e configurado em sua máquina."
      ]
    },
    {
      "cell_type": "code",
      "source": [
        "%%bash\n",
        "\n",
        "# Instal Java\n",
        "apt-get update && apt-get install openjdk-8-jdk-headless -qq > /dev/null\n",
        "\n",
        "# Install PySpark\n",
        "pip install -q pyspark"
      ],
      "metadata": {
        "colab": {
          "base_uri": "https://localhost:8080/"
        },
        "id": "HM_zElR2wSCU",
        "outputId": "9528bc08-3a61-4b44-ecef-e04096c54b74"
      },
      "execution_count": 1,
      "outputs": [
        {
          "output_type": "stream",
          "name": "stdout",
          "text": [
            "Get:1 https://cloud.r-project.org/bin/linux/ubuntu bionic-cran40/ InRelease [3,626 B]\n",
            "Get:2 http://security.ubuntu.com/ubuntu bionic-security InRelease [88.7 kB]\n",
            "Ign:3 https://developer.download.nvidia.com/compute/machine-learning/repos/ubuntu1804/x86_64  InRelease\n",
            "Hit:4 https://developer.download.nvidia.com/compute/cuda/repos/ubuntu1804/x86_64  InRelease\n",
            "Hit:5 https://developer.download.nvidia.com/compute/machine-learning/repos/ubuntu1804/x86_64  Release\n",
            "Get:6 http://ppa.launchpad.net/c2d4u.team/c2d4u4.0+/ubuntu bionic InRelease [15.9 kB]\n",
            "Hit:7 http://archive.ubuntu.com/ubuntu bionic InRelease\n",
            "Get:8 http://archive.ubuntu.com/ubuntu bionic-updates InRelease [88.7 kB]\n",
            "Hit:10 http://ppa.launchpad.net/cran/libgit2/ubuntu bionic InRelease\n",
            "Get:11 http://archive.ubuntu.com/ubuntu bionic-backports InRelease [83.3 kB]\n",
            "Hit:12 http://ppa.launchpad.net/deadsnakes/ppa/ubuntu bionic InRelease\n",
            "Get:13 http://security.ubuntu.com/ubuntu bionic-security/universe amd64 Packages [1,573 kB]\n",
            "Get:14 http://ppa.launchpad.net/graphics-drivers/ppa/ubuntu bionic InRelease [21.3 kB]\n",
            "Get:15 http://archive.ubuntu.com/ubuntu bionic-updates/universe amd64 Packages [2,348 kB]\n",
            "Get:16 http://security.ubuntu.com/ubuntu bionic-security/main amd64 Packages [3,127 kB]\n",
            "Get:17 http://ppa.launchpad.net/c2d4u.team/c2d4u4.0+/ubuntu bionic/main Sources [2,240 kB]\n",
            "Get:18 http://security.ubuntu.com/ubuntu bionic-security/restricted amd64 Packages [1,349 kB]\n",
            "Get:19 http://archive.ubuntu.com/ubuntu bionic-updates/multiverse amd64 Packages [30.8 kB]\n",
            "Get:20 http://archive.ubuntu.com/ubuntu bionic-updates/main amd64 Packages [3,552 kB]\n",
            "Get:21 http://archive.ubuntu.com/ubuntu bionic-updates/restricted amd64 Packages [1,392 kB]\n",
            "Get:22 http://ppa.launchpad.net/c2d4u.team/c2d4u4.0+/ubuntu bionic/main amd64 Packages [1,145 kB]\n",
            "Get:23 http://ppa.launchpad.net/graphics-drivers/ppa/ubuntu bionic/main amd64 Packages [43.2 kB]\n",
            "Fetched 17.1 MB in 7s (2,537 kB/s)\n",
            "Reading package lists...\n",
            "     ━━━━━━━━━━━━━━━━━━━━━━━━━━━━━━━━━━━━━━━ 281.4/281.4 MB 5.0 MB/s eta 0:00:00\n",
            "     ━━━━━━━━━━━━━━━━━━━━━━━━━━━━━━━━━━━━━━ 199.7/199.7 KB 18.0 MB/s eta 0:00:00\n"
          ]
        }
      ]
    },
    {
      "cell_type": "code",
      "source": [
        "import os\n",
        "os.environ['JAVA_HOME'] = '/usr/lib/jvm/java-8-openjdk-amd64'\n",
        "\n",
        "from pyspark.sql import SparkSession\n",
        "\n",
        "spark = SparkSession.builder.master(\"local[*]\").getOrCreate()"
      ],
      "metadata": {
        "id": "3RzGl6ZnwWsh"
      },
      "execution_count": 2,
      "outputs": []
    },
    {
      "cell_type": "markdown",
      "source": [
        "## Diponibilização do dados no ambiente de trabalho\n",
        "\n",
        "Embora os dados tenham sido propostos serem diponibilizados no S3 no momento de desenvolvimento estaremos trabalhando no ambiente do colab onde faz-se necessário a disponibilização dos dados. Dessa maneira, como os dados iniciais encontram-se no repositorio do github estaremos baixando estes no ambiente."
      ],
      "metadata": {
        "id": "fziOTk-dwYek"
      }
    },
    {
      "cell_type": "code",
      "source": [
        "%%bash\n",
        "\n",
        "mkdir air_cia\n",
        "\n",
        "curl https://raw.githubusercontent.com/Tiao553/objective-desafio-ed/main/nootbooks-desenvolvimento/data/AIR_CIA/ANAC_20211220_203627.csv -o air_cia/ANAC_20211220_203627.csv\n",
        "curl https://raw.githubusercontent.com/Tiao553/objective-desafio-ed/main/nootbooks-desenvolvimento/data/AIR_CIA/ANAC_20211220_203643.csv -o air_cia/ANAC_20211220_203643.csv\n",
        "curl https://raw.githubusercontent.com/Tiao553/objective-desafio-ed/main/nootbooks-desenvolvimento/data/AIR_CIA/ANAC_20211220_203733.csv -o air_cia/ANAC_20211220_203733.csv\n",
        "\n",
        "mkdir vra\n",
        "\n",
        "for i in {1..11}; \n",
        "do \n",
        "    curl https://raw.githubusercontent.com/Tiao553/objective-desafio-ed/main/nootbooks-desenvolvimento/data/VRA/VRA_2021$i.json -o vra/VRA_2021$i.json; \n",
        "done"
      ],
      "metadata": {
        "colab": {
          "base_uri": "https://localhost:8080/"
        },
        "id": "DaXaTW1dwaba",
        "outputId": "6356bbdc-2b6e-486f-e214-6ee129d08fe9"
      },
      "execution_count": 3,
      "outputs": [
        {
          "output_type": "stream",
          "name": "stderr",
          "text": [
            "  % Total    % Received % Xferd  Average Speed   Time    Time     Time  Current\n",
            "                                 Dload  Upload   Total   Spent    Left  Speed\n",
            "\r  0     0    0     0    0     0      0      0 --:--:-- --:--:-- --:--:--     0\r100  4346  100  4346    0     0  10083      0 --:--:-- --:--:-- --:--:-- 10083\n",
            "  % Total    % Received % Xferd  Average Speed   Time    Time     Time  Current\n",
            "                                 Dload  Upload   Total   Spent    Left  Speed\n",
            "\r  0     0    0     0    0     0      0      0 --:--:-- --:--:-- --:--:--     0\r  0     0    0     0    0     0      0      0 --:--:-- --:--:-- --:--:--     0\r100  1863  100  1863    0     0   3703      0 --:--:-- --:--:-- --:--:--  3696\n",
            "  % Total    % Received % Xferd  Average Speed   Time    Time     Time  Current\n",
            "                                 Dload  Upload   Total   Spent    Left  Speed\n",
            "\r  0     0    0     0    0     0      0      0 --:--:-- --:--:-- --:--:--     0\r100   754  100   754    0     0   1923      0 --:--:-- --:--:-- --:--:--  1923\n",
            "  % Total    % Received % Xferd  Average Speed   Time    Time     Time  Current\n",
            "                                 Dload  Upload   Total   Spent    Left  Speed\n",
            "\r  0     0    0     0    0     0      0      0 --:--:-- --:--:-- --:--:--     0\r  0     0    0     0    0     0      0      0 --:--:-- --:--:-- --:--:--     0\r  0     0    0     0    0     0      0      0 --:--:--  0:00:01 --:--:--     0\r  0 20.4M    0  7743    0     0   3625      0  1:38:39  0:00:02  1:38:37  3623\r100 20.4M  100 20.4M    0     0  9079k      0  0:00:02  0:00:02 --:--:-- 9079k\n",
            "  % Total    % Received % Xferd  Average Speed   Time    Time     Time  Current\n",
            "                                 Dload  Upload   Total   Spent    Left  Speed\n",
            "\r  0     0    0     0    0     0      0      0 --:--:-- --:--:-- --:--:--     0\r  0     0    0     0    0     0      0      0 --:--:--  0:00:01 --:--:--     0\r100 15.2M  100 15.2M    0     0  9199k      0  0:00:01  0:00:01 --:--:-- 9199k\n",
            "  % Total    % Received % Xferd  Average Speed   Time    Time     Time  Current\n",
            "                                 Dload  Upload   Total   Spent    Left  Speed\n",
            "\r  0     0    0     0    0     0      0      0 --:--:-- --:--:-- --:--:--     0\r  0     0    0     0    0     0      0      0 --:--:-- --:--:-- --:--:--     0\r  0     0    0     0    0     0      0      0 --:--:--  0:00:01 --:--:--     0\r100 13.7M  100 13.7M    0     0   9.8M      0  0:00:01  0:00:01 --:--:--  9.8M\n",
            "  % Total    % Received % Xferd  Average Speed   Time    Time     Time  Current\n",
            "                                 Dload  Upload   Total   Spent    Left  Speed\n",
            "\r  0     0    0     0    0     0      0      0 --:--:-- --:--:-- --:--:--     0\r  0     0    0     0    0     0      0      0 --:--:--  0:00:01 --:--:--     0\r100 10.1M  100 10.1M    0     0  7754k      0  0:00:01  0:00:01 --:--:-- 7754k\n",
            "  % Total    % Received % Xferd  Average Speed   Time    Time     Time  Current\n",
            "                                 Dload  Upload   Total   Spent    Left  Speed\n",
            "\r  0     0    0     0    0     0      0      0 --:--:-- --:--:-- --:--:--     0\r  0 12.4M    0  8259    0     0   6934      0  0:31:28  0:00:01  0:31:27  6934\r 35 12.4M   35 4526k    0     0  3487k      0  0:00:03  0:00:01  0:00:02 3484k\r100 12.4M  100 12.4M    0     0  9384k      0  0:00:01  0:00:01 --:--:-- 9377k\n",
            "  % Total    % Received % Xferd  Average Speed   Time    Time     Time  Current\n",
            "                                 Dload  Upload   Total   Spent    Left  Speed\n",
            "\r  0     0    0     0    0     0      0      0 --:--:-- --:--:-- --:--:--     0\r  0     0    0     0    0     0      0      0 --:--:--  0:00:01 --:--:--     0\r100 14.3M  100 14.3M    0     0  9152k      0  0:00:01  0:00:01 --:--:-- 9152k\n",
            "  % Total    % Received % Xferd  Average Speed   Time    Time     Time  Current\n",
            "                                 Dload  Upload   Total   Spent    Left  Speed\n",
            "\r  0     0    0     0    0     0      0      0 --:--:-- --:--:-- --:--:--     0\r  0     0    0     0    0     0      0      0 --:--:--  0:00:01 --:--:--     0\r  0 18.6M    0  7742    0     0   4506      0  1:12:22  0:00:01  1:12:21  4503\r100 18.6M  100 18.6M    0     0   9.9M      0  0:00:01  0:00:01 --:--:--  9.8M\n",
            "  % Total    % Received % Xferd  Average Speed   Time    Time     Time  Current\n",
            "                                 Dload  Upload   Total   Spent    Left  Speed\n",
            "\r  0     0    0     0    0     0      0      0 --:--:-- --:--:-- --:--:--     0\r  0     0    0     0    0     0      0      0 --:--:--  0:00:01 --:--:--     0\r  0 19.1M    0 11878    0     0   7066      0  0:47:27  0:00:01  0:47:26  7061\r100 19.1M  100 19.1M    0     0  10.4M      0  0:00:01  0:00:01 --:--:-- 10.4M\n",
            "  % Total    % Received % Xferd  Average Speed   Time    Time     Time  Current\n",
            "                                 Dload  Upload   Total   Spent    Left  Speed\n",
            "\r  0     0    0     0    0     0      0      0 --:--:-- --:--:-- --:--:--     0\r  0     0    0     0    0     0      0      0 --:--:--  0:00:01 --:--:--     0\r  0 19.7M    0  7743    0     0   4756      0  1:12:38  0:00:01  1:12:37  4753\r100 19.7M  100 19.7M    0     0  11.0M      0  0:00:01  0:00:01 --:--:-- 11.0M\n",
            "  % Total    % Received % Xferd  Average Speed   Time    Time     Time  Current\n",
            "                                 Dload  Upload   Total   Spent    Left  Speed\n",
            "\r  0     0    0     0    0     0      0      0 --:--:-- --:--:-- --:--:--     0\r  0     0    0     0    0     0      0      0 --:--:--  0:00:01 --:--:--     0\r  0 20.7M    0  7741    0     0   4072      0  1:29:02  0:00:01  1:29:01  4069\r100 20.7M  100 20.7M    0     0  9683k      0  0:00:02  0:00:02 --:--:-- 9683k\n",
            "  % Total    % Received % Xferd  Average Speed   Time    Time     Time  Current\n",
            "                                 Dload  Upload   Total   Spent    Left  Speed\n",
            "\r  0     0    0     0    0     0      0      0 --:--:-- --:--:-- --:--:--     0\r  0     0    0     0    0     0      0      0 --:--:--  0:00:01 --:--:--     0\r  0 22.3M    0     0    0     0      0      0 --:--:--  0:00:02 --:--:--     0\r100 22.3M  100 22.3M    0     0  9784k      0  0:00:02  0:00:02 --:--:-- 9784k\n"
          ]
        }
      ]
    },
    {
      "cell_type": "markdown",
      "source": [
        "Com os dados iniciados podemos realizar a leituras destes e iniciar a tratativa dos dados conforme solicitado pela equipe de negócio. Dessa forma, iremos criar uma função de leitura para acelerar o processo de desenvolvimento."
      ],
      "metadata": {
        "id": "kiBr2V_wyGv7"
      }
    },
    {
      "cell_type": "code",
      "source": [
        "# Setup Spark Session\n",
        "from pyspark.sql import SparkSession\n",
        "spark = SparkSession.builder.appName(\"criacao_do_processo_2\").getOrCreate()\n",
        "\n",
        "# Setup function to read data\n",
        "def read_data(path, format, delimiter=\"\\t\"):\n",
        "    if format == 'csv':\n",
        "        df = (\n",
        "            spark\n",
        "            .read\n",
        "            .csv(path, inferSchema=True, header=True,sep=delimiter)\n",
        "        )\n",
        "    else:\n",
        "        df =(\n",
        "            spark\n",
        "            .read\n",
        "            .format(format)\n",
        "            .load(path)\n",
        "        )\n",
        "    return df\n",
        "\n",
        "# read bronze table\n",
        "vra = read_data(\"vra/\",\"json\")\n",
        "\n",
        "# read bronze table\n",
        "air_cia = read_data(\"air_cia/\",\"csv\",\";\")"
      ],
      "metadata": {
        "id": "WQdBDkFuyFvX"
      },
      "execution_count": 4,
      "outputs": []
    },
    {
      "cell_type": "markdown",
      "source": [
        "Vamos verificar os dados:"
      ],
      "metadata": {
        "id": "VmZVReDS6NjJ"
      }
    },
    {
      "cell_type": "code",
      "source": [
        "vra.show(2)\n",
        "\n",
        "air_cia.show(2)"
      ],
      "metadata": {
        "colab": {
          "base_uri": "https://localhost:8080/"
        },
        "id": "EENaLxS51xeG",
        "outputId": "cff564ec-0712-4ec8-a80c-41920839b193"
      },
      "execution_count": 5,
      "outputs": [
        {
          "output_type": "stream",
          "name": "stdout",
          "text": [
            "+-------------------+-------------------+-----------------+-------------------+---------------+--------------------+-------------------+----------------+---------+-------------------+-------------------+-----------+\n",
            "|    ChegadaPrevista|        ChegadaReal|CódigoAutorização|CódigoJustificativa|CódigoTipoLinha|ICAOAeródromoDestino|ICAOAeródromoOrigem|ICAOEmpresaAérea|NúmeroVoo|    PartidaPrevista|        PartidaReal|SituaçãoVoo|\n",
            "+-------------------+-------------------+-----------------+-------------------+---------------+--------------------+-------------------+----------------+---------+-------------------+-------------------+-----------+\n",
            "|2021-11-12 08:30:00|2021-11-12 08:24:00|                0|                N/A|              X|                KORD|               SBGR|             UAL|     0844|2021-11-11 22:00:00|2021-11-11 22:14:00|  REALIZADO|\n",
            "|2021-11-15 08:30:00|2021-11-15 08:05:00|                0|                N/A|              X|                KORD|               SBGR|             UAL|     0844|2021-11-14 22:00:00|2021-11-14 21:59:00|  REALIZADO|\n",
            "+-------------------+-------------------+-----------------+-------------------+---------------+--------------------+-------------------+----------------+---------+-------------------+-------------------+-----------+\n",
            "only showing top 2 rows\n",
            "\n",
            "+--------------------+---------+------------------+--------------------+--------------------+--------------+--------------------+-------------------+------------------------+--------------------+\n",
            "|        Razão Social|ICAO IATA|              CNPJ|   Atividades Aéreas|       Endereço Sede|      Telefone|              E-Mail|Decisão Operacional|Data Decisão Operacional|Validade Operacional|\n",
            "+--------------------+---------+------------------+--------------------+--------------------+--------------+--------------------+-------------------+------------------------+--------------------+\n",
            "|ABSA - AEROLINHAS...|   LTG M3|00.074.635/0001-33|TRANSPORTE AÉREO ...|AEROPORTO INTERNA...|(11) 5582-8055|      gar@tam.com.br|      DECISÃO Nº 41|              22/04/2015|          23/04/2025|\n",
            "|AEROSUL TÁXI AÉRE...|   ASO 2S|27.315.694/0001-02|SERVIÇOS AÉREOS P...|RODOVIA PR 218, K...|(43) 3176-4030|operacoes@aerosul...|     DECISÃO Nº 282|              10/02/2021|                null|\n",
            "+--------------------+---------+------------------+--------------------+--------------------+--------------+--------------------+-------------------+------------------------+--------------------+\n",
            "only showing top 2 rows\n",
            "\n"
          ]
        }
      ]
    },
    {
      "cell_type": "markdown",
      "source": [
        "Para ambas as tabelas faz-se necessário apresentar as colunas no formato snake case. Dessa forma, iremos criar um função que iremos aplicar em ambas as tabelas.\n",
        "\n",
        ">  **snake case:** refere-se ao estilo de escrita em que cada espaço é substituído por um caractere de sublinhado (_) e a primeira letra de cada palavra é escrita em minúscula"
      ],
      "metadata": {
        "id": "TSl3LLiV39A1"
      }
    },
    {
      "cell_type": "code",
      "source": [
        "%%bash\n",
        "pip install Unidecode"
      ],
      "metadata": {
        "colab": {
          "base_uri": "https://localhost:8080/"
        },
        "id": "XnSYdf4K7lI2",
        "outputId": "8b8aa9af-e0cc-4864-fd8a-15b1aa428794"
      },
      "execution_count": 6,
      "outputs": [
        {
          "output_type": "stream",
          "name": "stdout",
          "text": [
            "Looking in indexes: https://pypi.org/simple, https://us-python.pkg.dev/colab-wheels/public/simple/\n",
            "Collecting Unidecode\n",
            "  Downloading Unidecode-1.3.6-py3-none-any.whl (235 kB)\n",
            "     ━━━━━━━━━━━━━━━━━━━━━━━━━━━━━━━━━━━━━━━ 235.9/235.9 KB 5.9 MB/s eta 0:00:00\n",
            "Installing collected packages: Unidecode\n",
            "Successfully installed Unidecode-1.3.6\n"
          ]
        }
      ]
    },
    {
      "cell_type": "code",
      "source": [
        " from unidecode import unidecode\n",
        " \n",
        " def snake_case(df):\n",
        "    def capital_letter_divider(a):\n",
        "        aux = 0 \n",
        "        for index,value in enumerate(a):\n",
        "            if index != 0 and value.isupper():\n",
        "                a = a[:(index+aux)] + \"_\" + a[(index+aux):]\n",
        "                aux += 1\n",
        "        return a\n",
        "\n",
        "    def special_cases(a):\n",
        "        return a.replace(\"ICAO\",\"Icao\").replace(\"CNPJ\",\"Cnpj\").replace(\"IATA\",\"Iata\")\n",
        "\n",
        "    return [unidecode(capital_letter_divider(special_cases(str(a))).replace('-','').replace(' _','_').replace(' ','_').lower()) for a in df.columns]"
      ],
      "metadata": {
        "id": "eoyHadw88TYm"
      },
      "execution_count": 7,
      "outputs": []
    },
    {
      "cell_type": "code",
      "source": [
        "vra_snake = (\n",
        "    vra\n",
        "    .toDF(*snake_case(vra))\n",
        ")\n",
        "\n",
        "air_cia_snake = (\n",
        "    air_cia\n",
        "    .toDF(*snake_case(air_cia))\n",
        ")\n",
        "\n",
        "vra_snake.show(2)\n",
        "air_cia_snake.show(2)"
      ],
      "metadata": {
        "colab": {
          "base_uri": "https://localhost:8080/"
        },
        "id": "qAI4KYKq3Uqv",
        "outputId": "3f293986-5aac-4218-80f7-bcdf41e80a84"
      },
      "execution_count": 8,
      "outputs": [
        {
          "output_type": "stream",
          "name": "stdout",
          "text": [
            "+-------------------+-------------------+------------------+--------------------+-----------------+----------------------+---------------------+------------------+----------+-------------------+-------------------+------------+\n",
            "|   chegada_prevista|       chegada_real|codigo_autorizacao|codigo_justificativa|codigo_tipo_linha|icao_aerodromo_destino|icao_aerodromo_origem|icao_empresa_aerea|numero_voo|   partida_prevista|       partida_real|situacao_voo|\n",
            "+-------------------+-------------------+------------------+--------------------+-----------------+----------------------+---------------------+------------------+----------+-------------------+-------------------+------------+\n",
            "|2021-11-12 08:30:00|2021-11-12 08:24:00|                 0|                 N/A|                X|                  KORD|                 SBGR|               UAL|      0844|2021-11-11 22:00:00|2021-11-11 22:14:00|   REALIZADO|\n",
            "|2021-11-15 08:30:00|2021-11-15 08:05:00|                 0|                 N/A|                X|                  KORD|                 SBGR|               UAL|      0844|2021-11-14 22:00:00|2021-11-14 21:59:00|   REALIZADO|\n",
            "+-------------------+-------------------+------------------+--------------------+-----------------+----------------------+---------------------+------------------+----------+-------------------+-------------------+------------+\n",
            "only showing top 2 rows\n",
            "\n",
            "+--------------------+---------+------------------+--------------------+--------------------+--------------+--------------------+-------------------+------------------------+--------------------+\n",
            "|        razao_social|icao_iata|              cnpj|   atividades_aereas|       endereco_sede|      telefone|              e_mail|decisao_operacional|data_decisao_operacional|validade_operacional|\n",
            "+--------------------+---------+------------------+--------------------+--------------------+--------------+--------------------+-------------------+------------------------+--------------------+\n",
            "|ABSA - AEROLINHAS...|   LTG M3|00.074.635/0001-33|TRANSPORTE AÉREO ...|AEROPORTO INTERNA...|(11) 5582-8055|      gar@tam.com.br|      DECISÃO Nº 41|              22/04/2015|          23/04/2025|\n",
            "|AEROSUL TÁXI AÉRE...|   ASO 2S|27.315.694/0001-02|SERVIÇOS AÉREOS P...|RODOVIA PR 218, K...|(43) 3176-4030|operacoes@aerosul...|     DECISÃO Nº 282|              10/02/2021|                null|\n",
            "+--------------------+---------+------------------+--------------------+--------------------+--------------+--------------------+-------------------+------------------------+--------------------+\n",
            "only showing top 2 rows\n",
            "\n"
          ]
        }
      ]
    },
    {
      "cell_type": "markdown",
      "source": [
        "Para aplicarmos o snake case realizamos a construção de uma função onde foi construido uma funcionalidade para varrer cada letrar com objetivo de encontrar as que são maiusculas e a partir desta adicionar o *underline*. Com o objetivo de criar uma função génerica acabamos encontrando alguns casos especiais e optei por não avançar na investigação para garantir o tratamento destes e tratamos pontualmente. Além disso, também adicionamos a função unidecode que garante o tratamento de caracteres especiais.\n",
        "\n",
        "Aplicado o Snake case iremos avaliar os tipos dos dados. Para isso estaremos utilizando o funcionalidade `printSchema` que nos retorna o tipo de cada colunas."
      ],
      "metadata": {
        "id": "wY8Jde12C6OW"
      }
    },
    {
      "cell_type": "code",
      "source": [
        "air_cia_snake.printSchema()\n",
        "vra_snake.printSchema()"
      ],
      "metadata": {
        "colab": {
          "base_uri": "https://localhost:8080/"
        },
        "id": "3lREjlB9ESvn",
        "outputId": "f2639270-dc7d-4e31-d3d7-1b53826b8fde"
      },
      "execution_count": 9,
      "outputs": [
        {
          "output_type": "stream",
          "name": "stdout",
          "text": [
            "root\n",
            " |-- razao_social: string (nullable = true)\n",
            " |-- icao_iata: string (nullable = true)\n",
            " |-- cnpj: string (nullable = true)\n",
            " |-- atividades_aereas: string (nullable = true)\n",
            " |-- endereco_sede: string (nullable = true)\n",
            " |-- telefone: string (nullable = true)\n",
            " |-- e_mail: string (nullable = true)\n",
            " |-- decisao_operacional: string (nullable = true)\n",
            " |-- data_decisao_operacional: string (nullable = true)\n",
            " |-- validade_operacional: string (nullable = true)\n",
            "\n",
            "root\n",
            " |-- chegada_prevista: string (nullable = true)\n",
            " |-- chegada_real: string (nullable = true)\n",
            " |-- codigo_autorizacao: string (nullable = true)\n",
            " |-- codigo_justificativa: string (nullable = true)\n",
            " |-- codigo_tipo_linha: string (nullable = true)\n",
            " |-- icao_aerodromo_destino: string (nullable = true)\n",
            " |-- icao_aerodromo_origem: string (nullable = true)\n",
            " |-- icao_empresa_aerea: string (nullable = true)\n",
            " |-- numero_voo: string (nullable = true)\n",
            " |-- partida_prevista: string (nullable = true)\n",
            " |-- partida_real: string (nullable = true)\n",
            " |-- situacao_voo: string (nullable = true)\n",
            "\n"
          ]
        }
      ]
    },
    {
      "cell_type": "markdown",
      "source": [
        "Por meio do `printSchema` podemos verificar que todos os campos apresentam-se como string. Sendo assim, ao lermos os arquivos da camada bronze precisaremos forçar o esquema leitura. Utilizando o formato de schema Data Definition Language (DDL) para definir o esquema Spark poderemos forçar na leitura.\n",
        "\n",
        "Abaixo temos a representação do schema em DDL, que é o formato onde definiremos esquema por meio de um string."
      ],
      "metadata": {
        "id": "4sI_LUqEJNgD"
      }
    },
    {
      "cell_type": "code",
      "source": [
        "from pyspark.sql.functions import *\n",
        "from pyspark.sql.types import *\n",
        "\n",
        "schema_air_cia = \"\"\"\n",
        "    razao_social string,\n",
        "    icao_iata string,\n",
        "    cnpj string,\n",
        "    atividades_aereas string,\n",
        "    endereco_sede string,\n",
        "    telefone string,\n",
        "    e_mail string,\n",
        "    decisao_operacional string,\n",
        "    data_decisao_operacional string,\n",
        "    validade_operacional string\n",
        "\"\"\"\n",
        "\n",
        "schema_vra = \"\"\"\n",
        "    chegada_prevista timestamp,\n",
        "    chegada_real timestamp,\n",
        "    codigo_autorizacao string,\n",
        "    codigo_justificativa string,\n",
        "    codigo_tipo_linha  string,\n",
        "    icao_aerodromo_destino string,\n",
        "    icao_aerodromo_origem string,\n",
        "    icao_empresa_aerea string,\n",
        "    numero_voo int,\n",
        "    partida_prevista timestamp,\n",
        "    partida_real timestamp,\n",
        "    situacao_voo string\n",
        "\"\"\"\n",
        "\n",
        "schema_test = StructType(\n",
        "    [\n",
        "        StructField('chegada_prevista', IntegerType()),\n",
        "        StructField('chegada_real', IntegerType()),\n",
        "        StructField('codigo_autorizacao', StringType()),\n",
        "        StructField('codigo_justificativa', StringType()),\n",
        "        StructField('codigo_tipo_linha', StringType()),\n",
        "        StructField('icao_aerodromo_destino', StringType()),\n",
        "        StructField('icao_aerodromo_origem', StringType()),\n",
        "        StructField('icao_empresa_aerea', StringType()),\n",
        "        StructField('numero_voo', IntegerType()),\n",
        "        StructField('partida_prevista', IntegerType()),\n",
        "        StructField('partida_real', IntegerType()),\n",
        "        StructField('situacao_voo', StringType()),\n",
        "    ]\n",
        ")\n",
        "\n",
        "# Setup function to read data\n",
        "def read_data(path, format, delimiter=\"\\t\",schema=None):\n",
        "    if format == 'csv':\n",
        "        df = (\n",
        "            spark\n",
        "            .read\n",
        "            .csv(path, inferSchema=True, header=True,sep=delimiter, schema=schema)\n",
        "        )\n",
        "    else:\n",
        "        df =(\n",
        "            spark\n",
        "            .read\n",
        "            .format(format)\n",
        "            .load(path)\n",
        "        )\n",
        "    return df\n",
        "\n",
        "# read bronze table\n",
        "vra = read_data(\"vra/\",\"json\", schema=schema_test)\n",
        "\n",
        "# read bronze table\n",
        "air_cia = read_data(\"air_cia/\",\"csv\",delimiter=\";\",schema=schema_air_cia)\n",
        "\n",
        "vra_snake_type = (\n",
        "    vra\n",
        "    .toDF(*snake_case(vra))\n",
        ")\n",
        "\n",
        "air_cia_snake_type = (\n",
        "    air_cia\n",
        "    .toDF(*snake_case(air_cia))\n",
        ")\n",
        "\n",
        "print(\"air_cia:\")\n",
        "air_cia_snake_type.show(2)\n",
        "air_cia_snake_type.printSchema()\n",
        "\n",
        "print(\"vra:\")\n",
        "vra_snake_type.show(2)\n",
        "vra_snake_type.printSchema()"
      ],
      "metadata": {
        "colab": {
          "base_uri": "https://localhost:8080/"
        },
        "id": "bV0_QxtVF2s9",
        "outputId": "f2340a3e-84ee-4d61-862d-83084602f4f0"
      },
      "execution_count": 10,
      "outputs": [
        {
          "output_type": "stream",
          "name": "stdout",
          "text": [
            "air_cia:\n",
            "+--------------------+---------+------------------+--------------------+--------------------+--------------+--------------------+-------------------+------------------------+--------------------+\n",
            "|        razao_social|icao_iata|              cnpj|   atividades_aereas|       endereco_sede|      telefone|              e_mail|decisao_operacional|data_decisao_operacional|validade_operacional|\n",
            "+--------------------+---------+------------------+--------------------+--------------------+--------------+--------------------+-------------------+------------------------+--------------------+\n",
            "|ABSA - AEROLINHAS...|   LTG M3|00.074.635/0001-33|TRANSPORTE AÉREO ...|AEROPORTO INTERNA...|(11) 5582-8055|      gar@tam.com.br|      DECISÃO Nº 41|              22/04/2015|          23/04/2025|\n",
            "|AEROSUL TÁXI AÉRE...|   ASO 2S|27.315.694/0001-02|SERVIÇOS AÉREOS P...|RODOVIA PR 218, K...|(43) 3176-4030|operacoes@aerosul...|     DECISÃO Nº 282|              10/02/2021|                null|\n",
            "+--------------------+---------+------------------+--------------------+--------------------+--------------+--------------------+-------------------+------------------------+--------------------+\n",
            "only showing top 2 rows\n",
            "\n",
            "root\n",
            " |-- razao_social: string (nullable = true)\n",
            " |-- icao_iata: string (nullable = true)\n",
            " |-- cnpj: string (nullable = true)\n",
            " |-- atividades_aereas: string (nullable = true)\n",
            " |-- endereco_sede: string (nullable = true)\n",
            " |-- telefone: string (nullable = true)\n",
            " |-- e_mail: string (nullable = true)\n",
            " |-- decisao_operacional: string (nullable = true)\n",
            " |-- data_decisao_operacional: string (nullable = true)\n",
            " |-- validade_operacional: string (nullable = true)\n",
            "\n",
            "vra:\n",
            "+-------------------+-------------------+------------------+--------------------+-----------------+----------------------+---------------------+------------------+----------+-------------------+-------------------+------------+\n",
            "|   chegada_prevista|       chegada_real|codigo_autorizacao|codigo_justificativa|codigo_tipo_linha|icao_aerodromo_destino|icao_aerodromo_origem|icao_empresa_aerea|numero_voo|   partida_prevista|       partida_real|situacao_voo|\n",
            "+-------------------+-------------------+------------------+--------------------+-----------------+----------------------+---------------------+------------------+----------+-------------------+-------------------+------------+\n",
            "|2021-11-12 08:30:00|2021-11-12 08:24:00|                 0|                 N/A|                X|                  KORD|                 SBGR|               UAL|      0844|2021-11-11 22:00:00|2021-11-11 22:14:00|   REALIZADO|\n",
            "|2021-11-15 08:30:00|2021-11-15 08:05:00|                 0|                 N/A|                X|                  KORD|                 SBGR|               UAL|      0844|2021-11-14 22:00:00|2021-11-14 21:59:00|   REALIZADO|\n",
            "+-------------------+-------------------+------------------+--------------------+-----------------+----------------------+---------------------+------------------+----------+-------------------+-------------------+------------+\n",
            "only showing top 2 rows\n",
            "\n",
            "root\n",
            " |-- chegada_prevista: string (nullable = true)\n",
            " |-- chegada_real: string (nullable = true)\n",
            " |-- codigo_autorizacao: string (nullable = true)\n",
            " |-- codigo_justificativa: string (nullable = true)\n",
            " |-- codigo_tipo_linha: string (nullable = true)\n",
            " |-- icao_aerodromo_destino: string (nullable = true)\n",
            " |-- icao_aerodromo_origem: string (nullable = true)\n",
            " |-- icao_empresa_aerea: string (nullable = true)\n",
            " |-- numero_voo: string (nullable = true)\n",
            " |-- partida_prevista: string (nullable = true)\n",
            " |-- partida_real: string (nullable = true)\n",
            " |-- situacao_voo: string (nullable = true)\n",
            "\n"
          ]
        }
      ]
    },
    {
      "cell_type": "markdown",
      "source": [
        "Como o dataframe nao aceitou o esquema forçado a leitura teremos que ajustar esses formatos por meio da codificação utilizando os metodos do spark para forçarmos os tipos dos dados. Além disso, iremos remover os dados duplicados."
      ],
      "metadata": {
        "id": "JItNTRK-eLwJ"
      }
    },
    {
      "cell_type": "code",
      "source": [
        "vra_snake_type = (\n",
        "    vra_snake_type\n",
        "    .withColumn('chegada_prevista',to_timestamp(col('chegada_prevista')))\n",
        "    .withColumn('chegada_real',to_timestamp(col('chegada_real')))\n",
        "    .withColumn('partida_prevista',to_timestamp(col('partida_prevista')))\n",
        "    .withColumn('partida_real',to_timestamp(col('partida_real')))\n",
        "    .withColumn('numero_voo',col('numero_voo').cast('int'))\n",
        "    .drop_duplicates()\n",
        ")\n",
        "\n",
        "print(\"vra:\")\n",
        "vra_snake_type.show(2)\n",
        "vra_snake_type.printSchema()"
      ],
      "metadata": {
        "colab": {
          "base_uri": "https://localhost:8080/"
        },
        "id": "wDbs8XqG1kMG",
        "outputId": "f5de5094-bd9a-4311-a036-f6f3f0f15c62"
      },
      "execution_count": 11,
      "outputs": [
        {
          "output_type": "stream",
          "name": "stdout",
          "text": [
            "vra:\n",
            "+-------------------+-------------------+------------------+--------------------+-----------------+----------------------+---------------------+------------------+----------+-------------------+-------------------+------------+\n",
            "|   chegada_prevista|       chegada_real|codigo_autorizacao|codigo_justificativa|codigo_tipo_linha|icao_aerodromo_destino|icao_aerodromo_origem|icao_empresa_aerea|numero_voo|   partida_prevista|       partida_real|situacao_voo|\n",
            "+-------------------+-------------------+------------------+--------------------+-----------------+----------------------+---------------------+------------------+----------+-------------------+-------------------+------------+\n",
            "|2021-11-13 08:55:00|2021-11-13 08:40:00|                 0|                 N/A|                X|                  SBGL|                 SABE|               ARG|      1260|2021-11-13 06:00:00|2021-11-13 06:15:00|   REALIZADO|\n",
            "|2021-11-08 07:45:00|               null|                 0|                 N/A|                G|                  SCEL|                 SBKP|               LCO|      1507|2021-11-08 03:45:00|               null|   CANCELADO|\n",
            "+-------------------+-------------------+------------------+--------------------+-----------------+----------------------+---------------------+------------------+----------+-------------------+-------------------+------------+\n",
            "only showing top 2 rows\n",
            "\n",
            "root\n",
            " |-- chegada_prevista: timestamp (nullable = true)\n",
            " |-- chegada_real: timestamp (nullable = true)\n",
            " |-- codigo_autorizacao: string (nullable = true)\n",
            " |-- codigo_justificativa: string (nullable = true)\n",
            " |-- codigo_tipo_linha: string (nullable = true)\n",
            " |-- icao_aerodromo_destino: string (nullable = true)\n",
            " |-- icao_aerodromo_origem: string (nullable = true)\n",
            " |-- icao_empresa_aerea: string (nullable = true)\n",
            " |-- numero_voo: integer (nullable = true)\n",
            " |-- partida_prevista: timestamp (nullable = true)\n",
            " |-- partida_real: timestamp (nullable = true)\n",
            " |-- situacao_voo: string (nullable = true)\n",
            "\n"
          ]
        }
      ]
    },
    {
      "cell_type": "markdown",
      "source": [
        "Para garantir a qualidade dos dados precimos garantir que as colunas em `string` não apresentem espaços em branco em extras oque impacta no uso dos dados."
      ],
      "metadata": {
        "id": "BNjJxUB6HwFQ"
      }
    },
    {
      "cell_type": "code",
      "source": [
        "def processing_string(df):\n",
        "    for column in [a[0] for a in df.dtypes if a[1] == 'string']:\n",
        "        df = df.withColumn(column, trim(col(column)))\n",
        "        return df\n",
        "\n",
        "air_cia_snake_type = processing_string(air_cia_snake_type)\n",
        "vra_snake_type = processing_string(vra_snake_type)\n",
        "\n",
        "print(\"air_cia:\")\n",
        "air_cia_snake_type.show(2)\n",
        "air_cia_snake_type.printSchema()\n",
        "\n",
        "print(\"vra:\")\n",
        "vra_snake_type.show(2)\n",
        "vra_snake_type.printSchema()"
      ],
      "metadata": {
        "colab": {
          "base_uri": "https://localhost:8080/"
        },
        "id": "GLoLH1TEC6h6",
        "outputId": "076d2b33-12b6-48b9-df6b-e869bfcf0026"
      },
      "execution_count": 12,
      "outputs": [
        {
          "output_type": "stream",
          "name": "stdout",
          "text": [
            "air_cia:\n",
            "+--------------------+---------+------------------+--------------------+--------------------+--------------+--------------------+-------------------+------------------------+--------------------+\n",
            "|        razao_social|icao_iata|              cnpj|   atividades_aereas|       endereco_sede|      telefone|              e_mail|decisao_operacional|data_decisao_operacional|validade_operacional|\n",
            "+--------------------+---------+------------------+--------------------+--------------------+--------------+--------------------+-------------------+------------------------+--------------------+\n",
            "|ABSA - AEROLINHAS...|   LTG M3|00.074.635/0001-33|TRANSPORTE AÉREO ...|AEROPORTO INTERNA...|(11) 5582-8055|      gar@tam.com.br|      DECISÃO Nº 41|              22/04/2015|          23/04/2025|\n",
            "|AEROSUL TÁXI AÉRE...|   ASO 2S|27.315.694/0001-02|SERVIÇOS AÉREOS P...|RODOVIA PR 218, K...|(43) 3176-4030|operacoes@aerosul...|     DECISÃO Nº 282|              10/02/2021|                null|\n",
            "+--------------------+---------+------------------+--------------------+--------------------+--------------+--------------------+-------------------+------------------------+--------------------+\n",
            "only showing top 2 rows\n",
            "\n",
            "root\n",
            " |-- razao_social: string (nullable = true)\n",
            " |-- icao_iata: string (nullable = true)\n",
            " |-- cnpj: string (nullable = true)\n",
            " |-- atividades_aereas: string (nullable = true)\n",
            " |-- endereco_sede: string (nullable = true)\n",
            " |-- telefone: string (nullable = true)\n",
            " |-- e_mail: string (nullable = true)\n",
            " |-- decisao_operacional: string (nullable = true)\n",
            " |-- data_decisao_operacional: string (nullable = true)\n",
            " |-- validade_operacional: string (nullable = true)\n",
            "\n",
            "vra:\n",
            "+-------------------+-------------------+------------------+--------------------+-----------------+----------------------+---------------------+------------------+----------+-------------------+-------------------+------------+\n",
            "|   chegada_prevista|       chegada_real|codigo_autorizacao|codigo_justificativa|codigo_tipo_linha|icao_aerodromo_destino|icao_aerodromo_origem|icao_empresa_aerea|numero_voo|   partida_prevista|       partida_real|situacao_voo|\n",
            "+-------------------+-------------------+------------------+--------------------+-----------------+----------------------+---------------------+------------------+----------+-------------------+-------------------+------------+\n",
            "|2021-11-13 08:55:00|2021-11-13 08:40:00|                 0|                 N/A|                X|                  SBGL|                 SABE|               ARG|      1260|2021-11-13 06:00:00|2021-11-13 06:15:00|   REALIZADO|\n",
            "|2021-11-08 07:45:00|               null|                 0|                 N/A|                G|                  SCEL|                 SBKP|               LCO|      1507|2021-11-08 03:45:00|               null|   CANCELADO|\n",
            "+-------------------+-------------------+------------------+--------------------+-----------------+----------------------+---------------------+------------------+----------+-------------------+-------------------+------------+\n",
            "only showing top 2 rows\n",
            "\n",
            "root\n",
            " |-- chegada_prevista: timestamp (nullable = true)\n",
            " |-- chegada_real: timestamp (nullable = true)\n",
            " |-- codigo_autorizacao: string (nullable = true)\n",
            " |-- codigo_justificativa: string (nullable = true)\n",
            " |-- codigo_tipo_linha: string (nullable = true)\n",
            " |-- icao_aerodromo_destino: string (nullable = true)\n",
            " |-- icao_aerodromo_origem: string (nullable = true)\n",
            " |-- icao_empresa_aerea: string (nullable = true)\n",
            " |-- numero_voo: integer (nullable = true)\n",
            " |-- partida_prevista: timestamp (nullable = true)\n",
            " |-- partida_real: timestamp (nullable = true)\n",
            " |-- situacao_voo: string (nullable = true)\n",
            "\n"
          ]
        }
      ]
    },
    {
      "cell_type": "markdown",
      "source": [
        "Com os tipos validados e os cuidados com os campos em string podemos finalizar a tabela silver do VRA. Dessa maneira, podemos avaliar os dados  da tabela Air_cia, onde garantiremos a qualidade e a sua limpeza de forma profunda pensando na sua utilização tanto para análises quanto para uso em aplicações.\n",
        "\n",
        "para isso iremos realizar a limpeza dos caracteres especiais contidos na coluna CNPJ e telefone. Na coluna telefone ainda contem mais de 1 alocados para o mesma companhia, neste caso iremos construir uma lista de telefones. Como também iremos garantir os tipos de dados que precisaram ser forçados utilizando os metodos do spark."
      ],
      "metadata": {
        "id": "MUOTO_3kfkF5"
      }
    },
    {
      "cell_type": "code",
      "source": [
        "#air_cia_snake_type_final =\n",
        "@udf (returnType = StringType())\n",
        "def cnpj_transforming(string):\n",
        "    if string:\n",
        "        return string.replace('.','').replace('/','').replace('-','')\n",
        "    else:\n",
        "        return None\n",
        "\n",
        "@udf (returnType = StringType())\n",
        "def telefone_transforming(string):\n",
        "    if string:\n",
        "        return string.replace('(','').replace(')','').replace(' ','').replace('-','').replace(\"|Fax:\",\"/\")\n",
        "    else:\n",
        "        return None\n",
        "\n",
        "air_cia_snake_type_final =(\n",
        "    air_cia_snake_type\n",
        "    .withColumn(\"icao\", split(col(\"icao_iata\"), \" \")[0])\n",
        "    .withColumn(\"iata\", split(col(\"icao_iata\"), \" \")[1])\n",
        "    .drop(col(\"icao_iata\"))\n",
        "    .withColumn(\"cnpj\", cnpj_transforming(col(\"cnpj\")))\n",
        "    .withColumn(\"telefone\", split(telefone_transforming(col('telefone')),\"/\"))\n",
        "    #.withColumn(\"decisao_operacional\", regexp_replace('decisao_operacional',\"DECISÃO Nº \",'').cast(\"int\"))\n",
        "    .withColumn(\"data_decisao_operacional\" , to_date(col('data_decisao_operacional'),'dd/MM/yyyy'))\n",
        "    .withColumn(\"validade_operacional\" , to_date(col('validade_operacional'),'dd/MM/yyyy'))\n",
        "    .withColumn(\"atividades_aereas\", split(\"atividades_aereas\", \",\"))\n",
        "    .drop_duplicates()\n",
        ")\n",
        "air_cia_snake_type_final.show(30, truncate=False)"
      ],
      "metadata": {
        "colab": {
          "base_uri": "https://localhost:8080/"
        },
        "id": "mMjGcJxPEQ6B",
        "outputId": "ddd7558e-fe9a-4bbc-96bf-ed64c6ea6521"
      },
      "execution_count": 96,
      "outputs": [
        {
          "output_type": "stream",
          "name": "stdout",
          "text": [
            "+------------------------------------------------------------------+--------------+------------------------------------------------------------------------------------------------------+--------------------------------------------------------------------------------------------------------------------------------------------------------------------+----------------------------+-----------------------------------+----------------------------+------------------------+--------------------+----+----+\n",
            "|razao_social                                                      |cnpj          |atividades_aereas                                                                                     |endereco_sede                                                                                                                                                       |telefone                    |e_mail                             |decisao_operacional         |data_decisao_operacional|validade_operacional|icao|iata|\n",
            "+------------------------------------------------------------------+--------------+------------------------------------------------------------------------------------------------------+--------------------------------------------------------------------------------------------------------------------------------------------------------------------+----------------------------+-----------------------------------+----------------------------+------------------------+--------------------+----+----+\n",
            "|ABSA - AEROLINHAS BRASILEIRAS S.A.                                |00074635000133|[TRANSPORTE AÉREO REGULAR]                                                                            |AEROPORTO INTERNACIONAL DE VIRACOPOS, RODOVIA SANTOS DUMONT, KM 66, SISTEMA VIÁRIO PRINCIPAL, S/ Nº, 13.052-970, CAMPINAS-SP                                        |[1155828055]                |gar@tam.com.br                     |DECISÃO Nº 41               |2015-04-22              |2025-04-23          |LTG |M3  |\n",
            "|ATA - AEROTÁXI ABAETÉ LTDA.                                       |14674451000119|[TÁXI-AÉREO,  TRANSPORTE AÉREO NÃO REGULAR,  TRANSPORTE AÉREO REGULAR]                                | PÇA. GAGO COUTINHO, S/N, AEROPORTO INTERNACIONAL DE SALVADOR DEPUTADO LUÍS EDUARDO MAGALHÃES - HANGAR - AEROPORTO, 41.510-045, SALVADOR-BA                         |[7134629600, 71996643563]   |guilherme@abaete.com.br            |DECISÃO Nº 36               |2020-03-05              |null                |ABJ |null|\n",
            "|AZUL CONECTA LTDA. (EX TWO TAXI AEREO LTDA)                       |04263318000116|[TRANSPORTE AÉREO REGULAR]                                                                            |AVENIDA EMILIO ANTONON, 901, BAIRRO CHÁCARA AEROPORTO, 13.212-010, JUNDIAÍ-SP                                                                                       |[1145822355, 11987433988]   |null                               |Decisão nº 14, de 25/01/2018|2018-01-25              |2028-01-29          |ACN |2F  |\n",
            "|TOTAL LINHAS AÉREAS S.A.                                          |32068363000155|[SERVIÇOS AÉREOS PÚBLICOS,  TRANSPORTE AÉREO REGULAR]                                                 |AV. SENADOR SALGADO FILHO, 5397 SALA D - BAIRRO UBERABA, 81.580-000, CURITIBA-PR                                                                                    |[4133718200, 3133438600]    |geraldo.antonio@total.com.br       |DECISÃO Nº 260              |2021-01-12              |2031-01-14          |TTL |L1  |\n",
            "|TAM LINHAS AÉREAS S.A.                                            |02012862000160|[TRANSPORTE AÉREO REGULAR]                                                                            |RUA ÁTICA , N° 673, 6ª ANDAR, SALA 62, JARDIM BRASIL, 04.634-042, SÃO PAULO-SP                                                                                      |[1155828055, 1155828050]    |gar@tam.com.br                     |DECISÃO Nº 366              |2021-07-07              |2031-11-09          |TAM |JJ  |\n",
            "|PRIME TÁXI AIR LTDA                                               |23568370000125|[TÁXI-AÉREO,  TRANSPORTE AÉREO NÃO REGULAR,  SERVIÇOS AÉREOS PÚBLICOS]                                |AL. RIO NEGRO, 585 - BLOCO A - CJ.95 - SALA E, 06.454-000, BARUERI-SP                                                                                               |[1141958307, 1141958308]    |mmatta@primefractionclub.com.br    |DECISÃO Nº 237              |2020-12-17              |2025-12-18          |null|null|\n",
            "|PASSAREDO TRANSPORTES AÉREOS S.A.                                 |00512777000135|[TRANSPORTE AÉREO REGULAR]                                                                            |SETOR DE HANGARES. ENTRADA PELA AV. THOMAZ ALBERTO WHATELY S/Nº, LOTES 14,16,20 E 22 AEROPORTO LEITE LOPES - JARDIM AEROPORTO, 14.078-550, RIBEIRÃO PRETO-SP        |[1635147127, 1635147126]    |juridico@voepass.com.br            |DECISÃO Nº 105              |2020-06-09              |null                |PTB |2Z  |\n",
            "|AEROSUL TÁXI AÉREO LTDA (EX.: AUSTEN TÁXI AÉREO LTDA)             |27315694000102|[SERVIÇOS AÉREOS PÚBLICOS,  TÁXI-AÉREO,  TRANSPORTE AÉREO NÃO REGULAR,  TRANSPORTE AÉREO REGULAR]     |RODOVIA PR 218, KM 7, JARDIM UNIVERSITÁRIO, AEROPORTO MUNICIPAL ALBERTO BERTELLI , 86.702-670, ARAPONGAS-PR                                                         |[4331764030]                |operacoes@aerosul.com.br           |DECISÃO Nº 282              |2021-02-10              |null                |ASO |2S  |\n",
            "|MODERN TRANSPORTE AEREO DE CARGA S.A                              |03887831000115|[TRANSPORTE AÉREO REGULAR]                                                                            |AVENIDA PREFEITO LUIZ LATORRE, Nº 9450, CONDOMINIO MASTER BUSINESS PARK, GALPÃO 17, SALA 1, VILA DAS HORTÊNCIAS, 13.209-430, JUNDIAÍ-SP                             |[2122729272, 1131096750]    |juridico@modern.com.br             |DECISÃO Nº 79               |2017-05-31              |2027-06-02          |MWM |WD  |\n",
            "|GOL LINHAS AÉREAS S.A. (EX- VRG LINHAS AÉREAS S.A.)               |07575651000159|[TRANSPORTE AÉREO REGULAR]                                                                            |PRAÇA SENADOR SALGADO FILHO, S/N°, AEROPORTO SANTOS DUMONT, TÉRREO, ÁREA PÚBLICA, ENTRE OS EIXOS 46-48/0-P, 20.021-340, RIO DE JANEIRO-RJ                           |[1150982990, 1150987872]    |rddfonseca@voegol.com.br           |DECISÃO Nº 156              |2019-11-05              |null                |GLO |G3  |\n",
            "|SIDERAL LINHAS AÉREAS LTDA.                                       |10919908000157|[TRANSPORTE AÉREO NÃO REGULAR,  TRANSPORTE AÉREO REGULAR]                                             |RODOVIA CONTORNO LESTE BR-116, Nº 9.119, 3º ANDAR, SALA 01, BAIRRO COSTEIRA. CAIXA POSTAL Nº 1054, 83.015-162, SÃO JOSÉ DOS PINHAIS-PR                              |[4131169000, 4131169059]    |office@siderallinhasaereas.com.br  |DECISÃO Nº 37               |2020-03-05              |2025-03-06          |SID |0S  |\n",
            "|ASTA LINHAS AÉREAS LTDA ( EX - AMÉRICA DO SUL LINHAS AÉREAS LTDA.)|12703737000150|[SERVIÇOS AÉREOS PÚBLICOS,  TRANSPORTE AÉREO REGULAR]                                                 |AV GOVERNADOR JOÃO PONCE DE ARRUDA, S/N, HANGAR AMÉRICA DO SUL ANEXO AO AEROP. MAL RONDON. CAIXA POSTAL N° 156, NO BAIRRO CENTRO-NORTE, 78.110-900, VÁRZEA GRANDE-MT|[6536142684, 1821041000]    |null                               |DECISÃO Nº 115              |2019-07-31              |2024-08-02          |SUL |0A  |\n",
            "|OMNI TÁXI AÉREO S.A.                                              |03670763000138|[AEROFOTOGRAFIA,  AEROINSPEÇÃO,  SERVIÇOS AÉREOS PÚBLICOS,  TÁXI-AÉREO,  TRANSPORTE AÉREO NÃO REGULAR]|AV. AYRTON SENNA, 2541 RUA F1 LOTE 40 - AEROPORTO DE JACAREPAGUÁ - BARRA DA TIJUCA, 22.775-002, RIO DE JANEIRO-RJ                                                   |[61983353444]               |lira@plfconsultoria.com.br         |DECISÃO Nº 100              |2019-07-10              |2024-07-12          |OMI |O1  |\n",
            "|AZUL LINHAS AÉREAS BRASILEIRAS S/A                                |09296295000160|[TRANSPORTE AÉREO REGULAR]                                                                            |AV. MARCOS PENTEADO ULHÔA RODRIGUES,N°939, 9° ANDAR TORRE JATOBÁ, COND. CASTELO BRANCO OFFICE PARK - TAMBORÉ, 06.460-040, BARUERI-SP                                |[551141349887, 551141349890]|vanessa.reis@voeazul.com.br        |Decisão nº 178              |2018-11-20              |2028-11-21          |AZU |AD  |\n",
            "|MAP TRANSPORTES AÉREOS LTDA.                                      |10483635000140|[TRANSPORTE AÉREO REGULAR]                                                                            |AVENIDA SANTOS DUMONT, Nº 1350, AEROPORTO INTERNACIONAL DE MANAUS EDUARDO GOMES - SAGUÃO DE EMBARQUE DO TPS I - HANGAR I, BAIRRO TARUMÃ, 69.041-000, MANAUS-AM      |[9236521620]                |contabil@voemap.com.br             |DECISÃO Nº 89               |2012-08-14              |2022-08-17          |PAM |7M  |\n",
            "|RTS - ROTA DO SOL TÁXI AÉREO LTDA.                                |01904715000131|[LIGAÇÃO AÉREA SISTEMÁTICA REGULAR,  SERVIÇOS AÉREOS PÚBLICOS,  TÁXI-AÉREO]                           |PRAÇA EDUARDO GOMES, S/Nº, TERMINAL DE AVIAÇÃO GERAL, SALA 013 - BAIRRO VILA UNIÃO, 60.422-721, FORTALEZA-CE                                                        |[8532723555]                |quadros@voerotadosol.com           |DECISÃO Nº 21               |2019-02-13              |2024-02-15          |CKP |null|\n",
            "|RIMA - RIO MADEIRA AEROTÁXI LTDA.                                 |04778630000142|[LIGAÇÃO AÉREA SISTEMÁTICA REGULAR,  TÁXI-AÉREO]                                                      |AV. LAURO SODRÉ, Nº 6490 - AEROPORTO INTERNACIONAL DE PORTO VELHO - LOJA 04, 76.803-260, PORTO VELHO-RO                                                             |[6932258000]                |null                               |DECISÃO Nº 116              |2017-07-26              |2022-07-27          |RIM |0R  |\n",
            "+------------------------------------------------------------------+--------------+------------------------------------------------------------------------------------------------------+--------------------------------------------------------------------------------------------------------------------------------------------------------------------+----------------------------+-----------------------------------+----------------------------+------------------------+--------------------+----+----+\n",
            "\n"
          ]
        }
      ]
    },
    {
      "cell_type": "markdown",
      "source": [
        "Como regra de negocio foi proposto que quando não encontrassemos o valor de iata era necessário considerar este valor como nulo. Portanto, na representação abaixo temos todos os casos sendo representado, assim como a evidência do caso."
      ],
      "metadata": {
        "id": "pQ4bIoyHIcfv"
      }
    },
    {
      "cell_type": "code",
      "source": [
        "air_cia_snake_type_final.select(\"icao\",\"iata\").distinct().show(30)"
      ],
      "metadata": {
        "colab": {
          "base_uri": "https://localhost:8080/"
        },
        "id": "coRotgTbsggd",
        "outputId": "fdffde46-73d5-4756-8ba1-36645211f1e3"
      },
      "execution_count": 14,
      "outputs": [
        {
          "output_type": "stream",
          "name": "stdout",
          "text": [
            "+----+----+\n",
            "|icao|iata|\n",
            "+----+----+\n",
            "| MWM|  WD|\n",
            "|null|null|\n",
            "| ASO|  2S|\n",
            "| ACN|  2F|\n",
            "| AZU|  AD|\n",
            "| PTB|  2Z|\n",
            "| TAM|  JJ|\n",
            "| OMI|  O1|\n",
            "| GLO|  G3|\n",
            "| TTL|  L1|\n",
            "| ABJ|null|\n",
            "| SUL|  0A|\n",
            "| PAM|  7M|\n",
            "| SID|  0S|\n",
            "| LTG|  M3|\n",
            "| CKP|null|\n",
            "| RIM|  0R|\n",
            "+----+----+\n",
            "\n"
          ]
        }
      ]
    },
    {
      "cell_type": "markdown",
      "source": [
        "### Construção da tabela aerodromos\n",
        "\n",
        "Com ambas as tabelas sendo finalizadas podemos utilizar os dados para que possamos consultar a API para retorno das informações do aerodromos. Como estratégia iremos primeiramente identificar os valores unicos de cada icao para que não realizemos requisições mais que o necessário."
      ],
      "metadata": {
        "id": "DmdF1EYIJAN1"
      }
    },
    {
      "cell_type": "code",
      "source": [
        "df_uniques_icao = vra_snake_type.select(\"icao_aerodromo_destino\",\"icao_aerodromo_origem\").distinct()"
      ],
      "metadata": {
        "id": "icecmPtTysdj"
      },
      "execution_count": 15,
      "outputs": []
    },
    {
      "cell_type": "markdown",
      "source": [
        "Como existem duas tabelas contendo os icao's teremos que contruir uma logica que garanta a eficiência das requisições. Para realizar a requisição esteremos utilizando um função onde informaremos o icao a api retorna um conjunto de dados. Esta API tem a necessidade de uma token de identificação de requisão. Como seguraça estaremos definindo este como variável de ambiente para nao te-lo exposto no código."
      ],
      "metadata": {
        "id": "G9_wArWjJxul"
      }
    },
    {
      "cell_type": "code",
      "source": [
        "import os\n",
        "# Set environment variables\n",
        "os.environ['X-RapidAPI-Key'] = \"\""
      ],
      "metadata": {
        "id": "sjCrbDsKu21j"
      },
      "execution_count": 23,
      "outputs": []
    },
    {
      "cell_type": "code",
      "source": [
        "def request_icao(string):\n",
        "    if string:\n",
        "        import requests\n",
        "        url = \"https://airport-info.p.rapidapi.com/airport\"\n",
        "        querystring = {\"icao\":string}\n",
        "        headers = {\n",
        "            \"X-RapidAPI-Key\": os.getenv('X-RapidAPI-Key'),\n",
        "            \"X-RapidAPI-Host\": \"airport-info.p.rapidapi.com\"\n",
        "        }\n",
        "        return requests.request(\"GET\", url, headers=headers, params=querystring).json()\n",
        "    else:\n",
        "        return None"
      ],
      "metadata": {
        "id": "SS8s6UOds8wb"
      },
      "execution_count": 24,
      "outputs": []
    },
    {
      "cell_type": "markdown",
      "source": [
        "Com a função criada vamos para logica de requisão dos dados. Neste estaremos utilzando a ideia de PythonOperator onde trabalharemos com tipo nativo a lista para alocação dos dados e json como requisão dos dados. Iremos coletar as linhas do dataframe spark contendo os icao's unicos, ao lermos cada linhas e cada coluna iremos adicionar cada icao requisitado em uma lista e verificar se este ja existe nesta. Para evitarmos timeouts utilizaremos a logica de try except e quando esbarrarmos em um esperaremos por 60 segundos em seguida retornaremos a requisitar o dado."
      ],
      "metadata": {
        "id": "wmY86zAyKZvL"
      }
    },
    {
      "cell_type": "code",
      "source": [
        "import time\n",
        "icao_vector = []\n",
        "vector_data = []\n",
        "for row in df_uniques_icao.collect():\n",
        "    #print(row[0],row[1])\n",
        "    if row[0] not in icao_vector:\n",
        "        icao_vector.append(row[0])\n",
        "        try:\n",
        "            vector_data.append(request_icao(row[0]))\n",
        "        except:\n",
        "            time.sleep(60)\n",
        "            vector_data.append(request_icao(row[0]))\n",
        "    if row[1] not in icao_vector:\n",
        "        icao_vector.append(row[1])\n",
        "        try:\n",
        "            vector_data.append(request_icao(row[1]))\n",
        "        except:\n",
        "            time.sleep(60)\n",
        "            vector_data.append(request_icao(row[1]))"
      ],
      "metadata": {
        "id": "EL5Zvaojw8Re"
      },
      "execution_count": 25,
      "outputs": []
    },
    {
      "cell_type": "markdown",
      "source": [
        "Para mapearmos cada icao que não obtemos retorno teremos que forçar o vetor de icaos solicitados nos campos dos json. dessa forma, tirando o campo icao, o restante todos estaram nulos. "
      ],
      "metadata": {
        "id": "gcZHagHQLPux"
      }
    },
    {
      "cell_type": "code",
      "source": [
        "data = []\n",
        "for index, value in enumerate(vector_data):\n",
        "    value[\"icao\"] = icao_vector[index]\n",
        "    data.append([value])"
      ],
      "metadata": {
        "id": "87QLr2oN_ZfZ"
      },
      "execution_count": 30,
      "outputs": []
    },
    {
      "cell_type": "markdown",
      "source": [
        "Tendo estruturado os dados em uma lista podemos criar a tabela em spark deste conjunto de dados. Estaremos lendo os Jsons, como string para garantirmos o campos corretos ao extrair as strings, ja que ao forçar o schema ele pode indexar incorretamente os campos aos quais os dados pertencem."
      ],
      "metadata": {
        "id": "_WaAFDX0LueX"
      }
    },
    {
      "cell_type": "code",
      "source": [
        "schema_aerodromo = StructType(\n",
        "    [\n",
        "        StructField('id', StringType()),\n",
        "        StructField('iata', StringType()),\n",
        "        StructField('icao', StringType()),\n",
        "        StructField('name', StringType()),\n",
        "        StructField('location', StringType()),\n",
        "        StructField('street_number', StringType()),\n",
        "        StructField('street', StringType()),\n",
        "        StructField('city', StringType()),\n",
        "        StructField('county', StringType()),\n",
        "        StructField('state', StringType()),\n",
        "        StructField('country_iso', StringType()),\n",
        "        StructField('country', StringType()),\n",
        "        StructField('postal_code', StringType()),\n",
        "        StructField('phone', StringType()),\n",
        "        StructField('latitude', StringType()),\n",
        "        StructField('longitude', StringType()),\n",
        "        StructField('uct', IntegerType()),\n",
        "        StructField('website', StringType())\n",
        "    ]\n",
        ")\n",
        "\n",
        "df_distincts = spark.createDataFrame(data = vector_data, schema=schema_aerodromo)\n",
        "df_distincts.show(truncate=False)"
      ],
      "metadata": {
        "colab": {
          "base_uri": "https://localhost:8080/"
        },
        "id": "j7PpPDK6zBX8",
        "outputId": "7547733e-55cc-4474-e547-ccf651d1d9c8"
      },
      "execution_count": 45,
      "outputs": [
        {
          "output_type": "stream",
          "name": "stdout",
          "text": [
            "+----+----+----+-----------------------------------------------------------------------+---------------------------------------+-------------+---------------------------------+--------------+--------------------+--------------------------+-----------+------------------+-----------+----------------+----------+----------+----+-----------------------------------------------------------------------------------------------------+\n",
            "|id  |iata|icao|name                                                                   |location                               |street_number|street                           |city          |county              |state                     |country_iso|country           |postal_code|phone           |latitude  |longitude |uct |website                                                                                              |\n",
            "+----+----+----+-----------------------------------------------------------------------+---------------------------------------+-------------+---------------------------------+--------------+--------------------+--------------------------+-----------+------------------+-----------+----------------+----------+----------+----+-----------------------------------------------------------------------------------------------------+\n",
            "|6029|POA |SBPA|Salgado Filho International Airport                                    |Porto Alegre, Rio Grande do Sul, Brazil|             |                                 |              |Porto Alegre        |State of Rio Grande do Sul|BR         |Brazil            |           |+55 51 3358-2000|-29.993473|-51.17538 |-180|http://www4.infraero.gov.br/aeroportos/aeroporto-internacional-de-porto-alegre-salgado-filho/        |\n",
            "|2695|GRU |SBGR|São Paulo–Guarulhos International Airport                              |São Paulo, Brazil                      |s/nº         |Rod. Hélio Smidt                 |              |Guarulhos           |São Paulo                 |BR         |Brazil            |07190-100  |+55 11 2445-2945|-23.430573|-46.47304 |-180|http://www.gru.com.br/                                                                               |\n",
            "|6160|PUJ |MDPC|Punta Cana International Airport                                       |Punta Cana, Dominican Republic         |             |Carretera Aeropuerto             |Punta Cana    |                    |La Altagracia             |DO         |Dominican Republic|23000      |+1 809-959-2376 |18.562244 |-68.368355|-240|http://www.puntacanainternationalairport.com/                                                        |\n",
            "|4642|MGF |SBMG|Sílvio Name Júnior Regional Airport                                    |Maringá, Paraná, Brazil                |S/n          |Avenida Doutor Vladimir Babkov   |              |Maringá             |Paraná                    |BR         |Brazil            |           |+55 44 3366-3838|-23.48028 |-52.011982|-180|http://www.aeroportomaringa.com.br/                                                                  |\n",
            "|1613|CWB |SBCT|Afonso Pena International Airport                                      |Curitiba, Paraná, Brazil               |             |Av. Rocha Pombo                  |              |São José dos Pinhais|Paraná                    |BR         |Brazil            |83010-900  |+55 41 3381-1515|-25.532713|-49.17248 |-180|http://www.infraero.gov.br/index.php/br/aeroportos/parana/aeroporto-afonso-pena.html                 |\n",
            "|1273|CGB |SBCY|Marechal Rondon International Airport                                  |Cuiabá, Mato Grosso, Brazil            |s/n          |Avenida João Ponce de Arruda     |              |Várzea Grande       |Mato Grosso               |BR         |Brazil            |78110-900  |+55 65 3614-2500|-15.653079|-56.117268|-240|http://www4.infraero.gov.br/aeroportos/aeroporto-internacional-de-cuiaba-marechal-rondon/            |\n",
            "|6679|SDU |SBRJ|Santos Dumont Airport                                                  |Rio de Janeiro, Rio de Janeiro, Brazil |s/n          |Praça Senador Salgado Filho      |              |Rio de Janeiro      |Rio de Janeiro            |BR         |Brazil            |20021-340  |+55 21 3814-7070|-22.911144|-43.164875|-180|http://www4.infraero.gov.br/aeroportos/aeroporto-do-rio-de-janeiro-santos-dumont/                    |\n",
            "|3395|JDO |SBJU|Juazeiro do Norte Airport                                              |Juazeiro do Norte, Ceará, Brazil       |4000         |Avenida Virgílio Távora          |              |Juazeiro do Norte   |Ceará                     |BR         |Brazil            |63020-735  |+55 88 3311-6500|-7.2150974|-39.27223 |-180|http://www4.infraero.gov.br/aeroportos/aeroporto-de-juazeiro-do-norte-orlando-bezerra-de-menezes/    |\n",
            "|7941|VCP |SBKP|Viracopos/Campinas International Airport                               |São Paulo / Campinas, São Paulo, Brazil|km 66        |Rodovia Santos Dumont            |              |Campinas            |São Paulo                 |BR         |Brazil            |13055-900  |+55 19 3725-5000|-23.008205|-47.13757 |-180|http://www.viracopos.com/                                                                            |\n",
            "|null|null|KPVG|null                                                                   |null                                   |null         |null                             |null          |null                |null                      |null       |null              |null       |null            |null      |null      |null|null                                                                                                 |\n",
            "|75  |ADD |HAAB|Bole International Airport                                             |Addis Ababa, Ethiopia                  |             |                                 |Addis Ababa   |North Shewa(R4)     |Oromia                    |ET         |Ethiopia          |           |+251 11 665 6666|8.980069  |38.79893  |180 |http://addisairport.com/                                                                             |\n",
            "|3420|JIA |SWJN|Juína Airport                                                          |Juína, Mato Grosso, Brazil             |             |                                 |              |Juína               |State of Mato Grosso      |BR         |Brazil            |78320-000  |                |-11.417905|-58.708218|-240|                                                                                                     |\n",
            "|null|null|SDNM|null                                                                   |null                                   |null         |null                             |null          |null                |null                      |null       |null              |null       |null            |null      |null      |null|null                                                                                                 |\n",
            "|953 |BSB |SBBR|Brasília International Airport (Presidente J. Kubitschek Int'l Airport)|Brasília, Distrito Federal, Brazil     |             |Lago Sul                         |              |Brasília            |Distrito Federal          |BR         |Brazil            |71608-900  |+55 61 3364-9000|-15.869737|-47.917236|-180|http://www.bsb.aero/                                                                                 |\n",
            "|1279|CGH |SBSP|São Paulo–Congonhas Airport                                            |São Paulo, São Paulo, Brazil           |s/nº         |Avenida Washington Luís          |              |São Paulo           |São Paulo                 |BR         |Brazil            |04626-911  |+55 11 5090-9000|-23.627325|-46.656586|-180|http://www.infraero.com.br/index.php/br/aeroportos/sao-paulo/aeroporto-de-sao-paulo-congonhas.html   |\n",
            "|7019|SSA |SBSV|Deputado Luís Eduardo Magalhães International Airport                  |Salvador, Bahia, Brazil                |             |                                 |              |Salvador            |Bahia                     |BR         |Brazil            |41520-970  |+55 71 3204-1010|-12.911098|-38.33124 |-180|http://www4.infraero.gov.br/aeroportos/aeroporto-internacional-de-salvador-dep-luis-eduardo-magalhaes|\n",
            "|6003|PMW |SBPJ|Palmas–Brigadeiro Lysias Rodrigues Airport                             |Palmas, Tocantins, Brazil              |s/n          |Avenida Joaquim Teotônio Segurado|              |Palmas              |Tocantins                 |BR         |Brazil            |           |+55 63 3219-3700|-10.295659|-48.35811 |-180|http://www.infraero.gov.br/                                                                          |\n",
            "|4157|LGG |EBLG|Liège Airport                                                          |Liège, Belgium                         |             |Rue de l’Aéroport                |Grâce-Hollogne|Liège               |Wallonie                  |BE         |Belgium           |4460       |+32 4 234 84 11 |50.64116  |5.4479117 |120 |http://www.liegeairport.com/                                                                         |\n",
            "|6150|PTY |MPTO|Tocumen International Airport                                          |Panama City, Panama                    |             |Avenida Domingo Díaz             |Panamá        |Panamá              |Panamá                    |PA         |Panama            |           |+507 238-2700   |9.066701  |-79.387375|-300|http://www.tocumenpanama.aero/                                                                       |\n",
            "|1429|CNF |SBCF|Tancredo Neves International Airport (Confins Int'l Airport)           |Belo Horizonte, Minas Gerais, Brazil   |s/n          |LMG-800                          |              |Confins             |Minas Gerais              |BR         |Brazil            |33500-900  |+55 31 3689-2700|-19.634098|-43.965397|-180|http://www.bh-airport.com.br/                                                                        |\n",
            "+----+----+----+-----------------------------------------------------------------------+---------------------------------------+-------------+---------------------------------+--------------+--------------------+--------------------------+-----------+------------------+-----------+----------------+----------+----------+----+-----------------------------------------------------------------------------------------------------+\n",
            "only showing top 20 rows\n",
            "\n"
          ]
        }
      ]
    },
    {
      "cell_type": "markdown",
      "source": [
        "Com a tabela instanciada como dataframe spark podemos desenvolver o processando desta. O primeiro ponto observado é no campo state contendo string denessário e que pode estar gerando duplicidade **State of**. Outro ponto, é que o campo de latitude e longitude tiveram que ser inseridos como string pois existiam dois formatos inseridos pela API."
      ],
      "metadata": {
        "id": "gte3PMkFMfZB"
      }
    },
    {
      "cell_type": "code",
      "source": [
        "df_aerodromo_final = (\n",
        "    df_distincts\n",
        "    .withColumn(\"state\", regexp_replace('state',\"State of \",''))\n",
        "    .withColumn(\"latitude\", col(\"latitude\").cast('float'))\n",
        "    .withColumn(\"longitude\", col(\"longitude\").cast('float'))\n",
        ")\n",
        "\n",
        "df_aerodromo_final = processing_string(df_aerodromo_final)"
      ],
      "metadata": {
        "id": "brnEZkRHyLlh"
      },
      "execution_count": 50,
      "outputs": []
    },
    {
      "cell_type": "markdown",
      "source": [
        "Portanto esses foram os processamentos observados como necessários para que podemos declarar esses dados como confiaveis ou trusted ou mesmo silver. Sendo assim, podemos salvar estes ou no caso deste notebook instancia-los como uma tabela."
      ],
      "metadata": {
        "id": "psbHcEiEzyP2"
      }
    },
    {
      "cell_type": "code",
      "source": [
        "# Setup function to enable table\n",
        "def create_view(df, name):\n",
        "    df.createOrReplaceTempView(name)\n",
        "\n",
        "create_view(df_aerodromo_final, \"silver_aerodromo_api\")\n",
        "create_view(air_cia_snake_type_final, \"silver_air_cia\")\n",
        "create_view(vra_snake_type, \"silver_vra\")"
      ],
      "metadata": {
        "id": "ICK0Oi9Czyhy"
      },
      "execution_count": 58,
      "outputs": []
    },
    {
      "cell_type": "markdown",
      "source": [
        "## Views"
      ],
      "metadata": {
        "id": "dIrg5GMb0eww"
      }
    },
    {
      "cell_type": "markdown",
      "source": [
        "Utima estapa do processo, ja com dados consumidos e pronto para o uso iremos realizar a contrução das views por meio da linguagem sql. Dessa forma vamos contruir uma função para ser possível realizar consultas nas tabelas silver criadas."
      ],
      "metadata": {
        "id": "8rn1ml310fJ8"
      }
    },
    {
      "cell_type": "code",
      "source": [
        "def query(query, n=30):\n",
        "    return spark.sql(query).show(n=n, truncate=False)"
      ],
      "metadata": {
        "id": "ctAuUq0p0jMq"
      },
      "execution_count": 52,
      "outputs": []
    },
    {
      "cell_type": "markdown",
      "source": [
        "Como representação dos dados utilizados temos:"
      ],
      "metadata": {
        "id": "_MoyRBYWrXcn"
      }
    },
    {
      "cell_type": "code",
      "source": [
        "query(\"select * from silver_aerodromo_api\",n=1)"
      ],
      "metadata": {
        "colab": {
          "base_uri": "https://localhost:8080/"
        },
        "id": "_3Iu1RkU008-",
        "outputId": "66bbd233-f38e-433e-8e77-25cd88633dc1"
      },
      "execution_count": 54,
      "outputs": [
        {
          "output_type": "stream",
          "name": "stdout",
          "text": [
            "+----+----+----+-----------------------------------+---------------------------------------+-------------+------+----+-----------------+-----------+-------+-----------+----------------+----------+---------+----+---------------------------------------------------------------------------------------------+\n",
            "|id  |iata|icao|name                               |location                               |street_number|street|city|state            |country_iso|country|postal_code|phone           |latitude  |longitude|uct |website                                                                                      |\n",
            "+----+----+----+-----------------------------------+---------------------------------------+-------------+------+----+-----------------+-----------+-------+-----------+----------------+----------+---------+----+---------------------------------------------------------------------------------------------+\n",
            "|6029|POA |SBPA|Salgado Filho International Airport|Porto Alegre, Rio Grande do Sul, Brazil|             |      |    |Rio Grande do Sul|BR         |Brazil |           |+55 51 3358-2000|-29.993473|-51.17538|-180|http://www4.infraero.gov.br/aeroportos/aeroporto-internacional-de-porto-alegre-salgado-filho/|\n",
            "+----+----+----+-----------------------------------+---------------------------------------+-------------+------+----+-----------------+-----------+-------+-----------+----------------+----------+---------+----+---------------------------------------------------------------------------------------------+\n",
            "only showing top 1 row\n",
            "\n"
          ]
        }
      ]
    },
    {
      "cell_type": "code",
      "source": [
        "query(\"select * from silver_air_cia\",n=1)"
      ],
      "metadata": {
        "colab": {
          "base_uri": "https://localhost:8080/"
        },
        "id": "k-DbIyx41dpO",
        "outputId": "c1b0b516-cc25-4a8d-981a-b240c0e72429"
      },
      "execution_count": 91,
      "outputs": [
        {
          "output_type": "stream",
          "name": "stdout",
          "text": [
            "+----------------------------------+--------------+--------------------------+----------------------------------------------------------------------------------------------------------------------------+------------+--------------+-------------------+------------------------+--------------------+----+----+\n",
            "|razao_social                      |cnpj          |atividades_aereas         |endereco_sede                                                                                                               |telefone    |e_mail        |decisao_operacional|data_decisao_operacional|validade_operacional|icao|iata|\n",
            "+----------------------------------+--------------+--------------------------+----------------------------------------------------------------------------------------------------------------------------+------------+--------------+-------------------+------------------------+--------------------+----+----+\n",
            "|ABSA - AEROLINHAS BRASILEIRAS S.A.|00074635000133|[TRANSPORTE AÉREO REGULAR]|AEROPORTO INTERNACIONAL DE VIRACOPOS, RODOVIA SANTOS DUMONT, KM 66, SISTEMA VIÁRIO PRINCIPAL, S/ Nº, 13.052-970, CAMPINAS-SP|[1155828055]|gar@tam.com.br|DECISÃO Nº 41      |2015-04-22              |2025-04-23          |LTG |M3  |\n",
            "+----------------------------------+--------------+--------------------------+----------------------------------------------------------------------------------------------------------------------------+------------+--------------+-------------------+------------------------+--------------------+----+----+\n",
            "only showing top 1 row\n",
            "\n"
          ]
        }
      ]
    },
    {
      "cell_type": "code",
      "source": [
        "query(\"select * from silver_vra\",n=1)"
      ],
      "metadata": {
        "colab": {
          "base_uri": "https://localhost:8080/"
        },
        "id": "xRKM9eq_1gsS",
        "outputId": "7f77a443-db40-4c39-c744-d5c917dafc00"
      },
      "execution_count": 56,
      "outputs": [
        {
          "output_type": "stream",
          "name": "stdout",
          "text": [
            "+-------------------+-------------------+------------------+--------------------+-----------------+----------------------+---------------------+------------------+----------+-------------------+-------------------+------------+\n",
            "|chegada_prevista   |chegada_real       |codigo_autorizacao|codigo_justificativa|codigo_tipo_linha|icao_aerodromo_destino|icao_aerodromo_origem|icao_empresa_aerea|numero_voo|partida_prevista   |partida_real       |situacao_voo|\n",
            "+-------------------+-------------------+------------------+--------------------+-----------------+----------------------+---------------------+------------------+----------+-------------------+-------------------+------------+\n",
            "|2021-11-13 08:55:00|2021-11-13 08:40:00|0                 |N/A                 |X                |SBGL                  |SABE                 |ARG               |1260      |2021-11-13 06:00:00|2021-11-13 06:15:00|REALIZADO   |\n",
            "+-------------------+-------------------+------------------+--------------------+-----------------+----------------------+---------------------+------------------+----------+-------------------+-------------------+------------+\n",
            "only showing top 1 row\n",
            "\n"
          ]
        }
      ]
    },
    {
      "cell_type": "markdown",
      "source": [
        "### View companhia\n",
        "\n",
        "- Para cada companhia aérea trazer a rota mais utilizada com as seguintes informações:\n",
        "    - Razão social da companhia aérea\n",
        "    - Nome Aeroporto de Origem\n",
        "    - ICAO do aeroporto de origem\n",
        "    - Estado/UF do aeroporto de origem\n",
        "    - Nome do Aeroporto de Destino\n",
        "    - ICAO do Aeroporto de destino\n",
        "    - Estado/UF do aeroporto de destino\n",
        "\n",
        "Query construida:"
      ],
      "metadata": {
        "id": "YZlBYqLI1EBd"
      }
    },
    {
      "cell_type": "code",
      "source": [
        "query(\n",
        "\"\"\"\n",
        "select\n",
        "    rank_cia.companhia as companhia,\n",
        "    rank_cia.icao_origem as icao_origem,\n",
        "    aero1.name as nome_origem,\n",
        "    aero1.state as estado_origem,\n",
        "    rank_cia.icao_destino as icao_destino,\n",
        "    aero2.name as nome_destino,\n",
        "    aero2.state as estado_destino\n",
        "from\n",
        "    (\n",
        "        select\n",
        "            air.razao_social as companhia,\n",
        "            vra.icao_aerodromo_origem as icao_origem ,\n",
        "            vra.icao_aerodromo_destino as icao_destino,\n",
        "            count(*) as count\n",
        "        from \n",
        "            silver_vra as vra\n",
        "            LEFT JOIN silver_air_cia as air\n",
        "                ON vra.icao_empresa_aerea = air.icao\n",
        "        group by\n",
        "            1,2,3\n",
        "        order by\n",
        "            count(*)  desc\n",
        "    ) as rank_cia\n",
        "    LEFT JOIN silver_aerodromo_api as aero1\n",
        "        ON rank_cia.icao_origem = aero1.icao\n",
        "    LEFT JOIN silver_aerodromo_api as aero2\n",
        "        ON rank_cia.icao_destino = aero2.icao\n",
        "\"\"\"\n",
        ")"
      ],
      "metadata": {
        "colab": {
          "base_uri": "https://localhost:8080/"
        },
        "id": "u71ws8k91FVd",
        "outputId": "0ffb843c-4159-4a92-99d9-83c3a62ebc0d"
      },
      "execution_count": 68,
      "outputs": [
        {
          "output_type": "stream",
          "name": "stdout",
          "text": [
            "+---------------------------------------------------+-----------+-----------------------------------------------------------------------+-----------------+------------+-----------------------------------------------------------------------+-----------------+\n",
            "|companhia                                          |icao_origem|nome_origem                                                            |estado_origem    |icao_destino|nome_destino                                                           |estado_destino   |\n",
            "+---------------------------------------------------+-----------+-----------------------------------------------------------------------+-----------------+------------+-----------------------------------------------------------------------+-----------------+\n",
            "|TAM LINHAS AÉREAS S.A.                             |SBSP       |São Paulo–Congonhas Airport                                            |São Paulo        |SBRJ        |Santos Dumont Airport                                                  |Rio de Janeiro   |\n",
            "|TAM LINHAS AÉREAS S.A.                             |SBRJ       |Santos Dumont Airport                                                  |Rio de Janeiro   |SBSP        |São Paulo–Congonhas Airport                                            |São Paulo        |\n",
            "|AZUL LINHAS AÉREAS BRASILEIRAS S/A                 |SBKP       |Viracopos/Campinas International Airport                               |São Paulo        |SBRJ        |Santos Dumont Airport                                                  |Rio de Janeiro   |\n",
            "|AZUL LINHAS AÉREAS BRASILEIRAS S/A                 |SBRJ       |Santos Dumont Airport                                                  |Rio de Janeiro   |SBKP        |Viracopos/Campinas International Airport                               |São Paulo        |\n",
            "|GOL LINHAS AÉREAS S.A. (EX- VRG LINHAS AÉREAS S.A.)|SBRJ       |Santos Dumont Airport                                                  |Rio de Janeiro   |SBSP        |São Paulo–Congonhas Airport                                            |São Paulo        |\n",
            "|GOL LINHAS AÉREAS S.A. (EX- VRG LINHAS AÉREAS S.A.)|SBSP       |São Paulo–Congonhas Airport                                            |São Paulo        |SBRJ        |Santos Dumont Airport                                                  |Rio de Janeiro   |\n",
            "|AZUL LINHAS AÉREAS BRASILEIRAS S/A                 |SBCF       |Tancredo Neves International Airport (Confins Int'l Airport)           |Minas Gerais     |SBKP        |Viracopos/Campinas International Airport                               |São Paulo        |\n",
            "|AZUL LINHAS AÉREAS BRASILEIRAS S/A                 |SBKP       |Viracopos/Campinas International Airport                               |São Paulo        |SBCF        |Tancredo Neves International Airport (Confins Int'l Airport)           |Minas Gerais     |\n",
            "|AZUL LINHAS AÉREAS BRASILEIRAS S/A                 |SBKP       |Viracopos/Campinas International Airport                               |São Paulo        |SBPA        |Salgado Filho International Airport                                    |Rio Grande do Sul|\n",
            "|AZUL LINHAS AÉREAS BRASILEIRAS S/A                 |SBPA       |Salgado Filho International Airport                                    |Rio Grande do Sul|SBKP        |Viracopos/Campinas International Airport                               |São Paulo        |\n",
            "|AZUL LINHAS AÉREAS BRASILEIRAS S/A                 |SBRJ       |Santos Dumont Airport                                                  |Rio de Janeiro   |SBSP        |São Paulo–Congonhas Airport                                            |São Paulo        |\n",
            "|AZUL LINHAS AÉREAS BRASILEIRAS S/A                 |SBSP       |São Paulo–Congonhas Airport                                            |São Paulo        |SBRJ        |Santos Dumont Airport                                                  |Rio de Janeiro   |\n",
            "|TAM LINHAS AÉREAS S.A.                             |SBSP       |São Paulo–Congonhas Airport                                            |São Paulo        |SBBR        |Brasília International Airport (Presidente J. Kubitschek Int'l Airport)|Distrito Federal |\n",
            "|TAM LINHAS AÉREAS S.A.                             |SBBR       |Brasília International Airport (Presidente J. Kubitschek Int'l Airport)|Distrito Federal |SBSP        |São Paulo–Congonhas Airport                                            |São Paulo        |\n",
            "|AZUL LINHAS AÉREAS BRASILEIRAS S/A                 |SBKP       |Viracopos/Campinas International Airport                               |São Paulo        |SBCT        |Afonso Pena International Airport                                      |Paraná           |\n",
            "|AZUL LINHAS AÉREAS BRASILEIRAS S/A                 |SBCT       |Afonso Pena International Airport                                      |Paraná           |SBKP        |Viracopos/Campinas International Airport                               |São Paulo        |\n",
            "|TAM LINHAS AÉREAS S.A.                             |SBGR       |São Paulo–Guarulhos International Airport                              |São Paulo        |SBRJ        |Santos Dumont Airport                                                  |Rio de Janeiro   |\n",
            "|TAM LINHAS AÉREAS S.A.                             |SBRJ       |Santos Dumont Airport                                                  |Rio de Janeiro   |SBGR        |São Paulo–Guarulhos International Airport                              |São Paulo        |\n",
            "|AZUL LINHAS AÉREAS BRASILEIRAS S/A                 |SBKP       |Viracopos/Campinas International Airport                               |São Paulo        |SBBR        |Brasília International Airport (Presidente J. Kubitschek Int'l Airport)|Distrito Federal |\n",
            "|AZUL LINHAS AÉREAS BRASILEIRAS S/A                 |SBBR       |Brasília International Airport (Presidente J. Kubitschek Int'l Airport)|Distrito Federal |SBKP        |Viracopos/Campinas International Airport                               |São Paulo        |\n",
            "|TAM LINHAS AÉREAS S.A.                             |SBPA       |Salgado Filho International Airport                                    |Rio Grande do Sul|SBGR        |São Paulo–Guarulhos International Airport                              |São Paulo        |\n",
            "|TAM LINHAS AÉREAS S.A.                             |SBGR       |São Paulo–Guarulhos International Airport                              |São Paulo        |SBPA        |Salgado Filho International Airport                                    |Rio Grande do Sul|\n",
            "|AZUL LINHAS AÉREAS BRASILEIRAS S/A                 |SBKP       |Viracopos/Campinas International Airport                               |São Paulo        |SBVT        |Eurico de Aguiar Salles Airport                                        |Espírito Santo   |\n",
            "|TAM LINHAS AÉREAS S.A.                             |SBSP       |São Paulo–Congonhas Airport                                            |São Paulo        |SBPA        |Salgado Filho International Airport                                    |Rio Grande do Sul|\n",
            "|TAM LINHAS AÉREAS S.A.                             |SBPA       |Salgado Filho International Airport                                    |Rio Grande do Sul|SBSP        |São Paulo–Congonhas Airport                                            |São Paulo        |\n",
            "|AZUL LINHAS AÉREAS BRASILEIRAS S/A                 |SBVT       |Eurico de Aguiar Salles Airport                                        |Espírito Santo   |SBKP        |Viracopos/Campinas International Airport                               |São Paulo        |\n",
            "|TAM LINHAS AÉREAS S.A.                             |SBSV       |Deputado Luís Eduardo Magalhães International Airport                  |Bahia            |SBGR        |São Paulo–Guarulhos International Airport                              |São Paulo        |\n",
            "|TAM LINHAS AÉREAS S.A.                             |SBGR       |São Paulo–Guarulhos International Airport                              |São Paulo        |SBSV        |Deputado Luís Eduardo Magalhães International Airport                  |Bahia            |\n",
            "|AZUL LINHAS AÉREAS BRASILEIRAS S/A                 |SBRJ       |Santos Dumont Airport                                                  |Rio de Janeiro   |SBCF        |Tancredo Neves International Airport (Confins Int'l Airport)           |Minas Gerais     |\n",
            "|AZUL LINHAS AÉREAS BRASILEIRAS S/A                 |SBCF       |Tancredo Neves International Airport (Confins Int'l Airport)           |Minas Gerais     |SBRJ        |Santos Dumont Airport                                                  |Rio de Janeiro   |\n",
            "+---------------------------------------------------+-----------+-----------------------------------------------------------------------+-----------------+------------+-----------------------------------------------------------------------+-----------------+\n",
            "only showing top 30 rows\n",
            "\n"
          ]
        }
      ]
    },
    {
      "cell_type": "markdown",
      "source": [
        "> ### Por meio de windows functions é possível otmizar esta query."
      ],
      "metadata": {
        "id": "miH6OBrFsG0k"
      }
    },
    {
      "cell_type": "markdown",
      "source": [
        "### View Aeroporto\n",
        "\n",
        "- Para cada aeroporto trazer a companhia aérea com maior atuação no ano com as seguintes informações:\n",
        "    - Nome do Aeroporto\n",
        "    - ICAO do Aeroporto\n",
        "    - Razão social da Companhia Aérea\n",
        "    - Quantidade de Rotas à partir daquele aeroporto\n",
        "    - Quantidade de Rotas com destino àquele aeroporto\n",
        "    - Quantidade total de pousos e decolagens naquele aeroporto\n",
        "\n",
        "- Precisamos garantir a localização do icao origem com a do icao aeroporto para que realizemos a contagem de quantidade de Rotas à partir daquele aeroporto.\n",
        "- Precisamos garantir a localização do icao destino com a do icao aeroporto para que realizemos a contagem de quantidade de Rotas com destino àquele aeroporto.\n",
        "- A quantidade total de pousos e decolagens naquele aeroporto é a soma dos dois anteriores\n",
        "\n",
        "Query construida:"
      ],
      "metadata": {
        "id": "WiqYXFGX9He_"
      }
    },
    {
      "cell_type": "code",
      "source": [
        "query(\n",
        "\"\"\"\n",
        "SELECT\n",
        "    origem.aeroporto,\n",
        "    origem.icao,\n",
        "    air.razao_social as companhia,\n",
        "    origem.qtd_rotas_origem,\n",
        "    destino.qtd_rotas_destino,\n",
        "    (origem.qtd_rotas_origem + destino.qtd_rotas_destino) as qtd_pousos_decolagens\n",
        "FROM\n",
        "    (\n",
        "        select\n",
        "            aero.name as aeroporto,\n",
        "            aero.icao as icao,\n",
        "            vra1.icao_empresa_aerea as icao_empresa_aerea,\n",
        "            count(vra1.icao_aerodromo_origem) as qtd_rotas_origem\n",
        "        from \n",
        "            silver_aerodromo_api as aero\n",
        "            LEFT JOIN silver_vra as vra1\n",
        "                ON  vra1.icao_aerodromo_origem = aero.icao   \n",
        "        group by\n",
        "            1,2,3\n",
        "        order by\n",
        "            4\n",
        "        desc\n",
        "    ) as origem\n",
        "    LEFT JOIN (\n",
        "        select\n",
        "            aero.name as aeroporto,\n",
        "            aero.icao as icao,\n",
        "            vra2.icao_empresa_aerea as icao_empresa_aerea,\n",
        "            count(vra2.icao_aerodromo_destino) as qtd_rotas_destino\n",
        "        from \n",
        "            silver_aerodromo_api as aero\n",
        "            LEFT JOIN silver_vra as vra2\n",
        "                ON  vra2.icao_aerodromo_destino = aero.icao    \n",
        "        group by\n",
        "            1,2,3\n",
        "        order by\n",
        "            4\n",
        "        desc\n",
        "    ) as destino\n",
        "    ON (\n",
        "        origem.aeroporto = destino.aeroporto and\n",
        "        origem.icao = destino.icao and\n",
        "        origem.icao_empresa_aerea = destino.icao_empresa_aerea\n",
        "    )\n",
        "    LEFT JOIN silver_air_cia as air\n",
        "        ON origem.icao_empresa_aerea = air.icao\n",
        "\"\"\"\n",
        ")          "
      ],
      "metadata": {
        "colab": {
          "base_uri": "https://localhost:8080/"
        },
        "id": "W1Y3TIytl7vj",
        "outputId": "51533d2d-b7b0-42c0-91fa-b2c03d6104d5"
      },
      "execution_count": 128,
      "outputs": [
        {
          "output_type": "stream",
          "name": "stdout",
          "text": [
            "+-----------------------------------------------------------------------+----+---------------------------------------------------+----------------+-----------------+---------------------+\n",
            "|aeroporto                                                              |icao|companhia                                          |qtd_rotas_origem|qtd_rotas_destino|qtd_pousos_decolagens|\n",
            "+-----------------------------------------------------------------------+----+---------------------------------------------------+----------------+-----------------+---------------------+\n",
            "|São Paulo–Guarulhos International Airport                              |SBGR|GOL LINHAS AÉREAS S.A. (EX- VRG LINHAS AÉREAS S.A.)|23225           |24322            |47547                |\n",
            "|Salgado Filho International Airport                                    |SBPA|TAM LINHAS AÉREAS S.A.                             |4442            |4442             |8884                 |\n",
            "|Santos Dumont Airport                                                  |SBRJ|TAM LINHAS AÉREAS S.A.                             |7730            |7732             |15462                |\n",
            "|Eurico de Aguiar Salles Airport                                        |SBVT|AZUL LINHAS AÉREAS BRASILEIRAS S/A                 |3608            |3608             |7216                 |\n",
            "|Deputado Luís Eduardo Magalhães International Airport                  |SBSV|TAM LINHAS AÉREAS S.A.                             |3874            |3870             |7744                 |\n",
            "|Santos Dumont Airport                                                  |SBRJ|GOL LINHAS AÉREAS S.A. (EX- VRG LINHAS AÉREAS S.A.)|6443            |6456             |12899                |\n",
            "|Recife/Guararapes–Gilberto Freyre International Airport                |SBRF|GOL LINHAS AÉREAS S.A. (EX- VRG LINHAS AÉREAS S.A.)|4110            |3972             |8082                 |\n",
            "|Eduardo Gomes International Airport                                    |SBEG|AZUL LINHAS AÉREAS BRASILEIRAS S/A                 |4295            |4199             |8494                 |\n",
            "|Marechal Rondon International Airport                                  |SBCY|AZUL LINHAS AÉREAS BRASILEIRAS S/A                 |4930            |4933             |9863                 |\n",
            "|São Paulo–Guarulhos International Airport                              |SBGR|AZUL LINHAS AÉREAS BRASILEIRAS S/A                 |5701            |5788             |11489                |\n",
            "|Tancredo Neves International Airport (Confins Int'l Airport)           |SBCF|AZUL LINHAS AÉREAS BRASILEIRAS S/A                 |20987           |20952            |41939                |\n",
            "|Salgado Filho International Airport                                    |SBPA|GOL LINHAS AÉREAS S.A. (EX- VRG LINHAS AÉREAS S.A.)|3667            |3611             |7278                 |\n",
            "|Deputado Luís Eduardo Magalhães International Airport                  |SBSV|AZUL LINHAS AÉREAS BRASILEIRAS S/A                 |5714            |5709             |11423                |\n",
            "|Brasília International Airport (Presidente J. Kubitschek Int'l Airport)|SBBR|TAM LINHAS AÉREAS S.A.                             |16174           |16170            |32344                |\n",
            "|Rio de Janeiro–Galeão International Airport                            |SBGL|GOL LINHAS AÉREAS S.A. (EX- VRG LINHAS AÉREAS S.A.)|6302            |6437             |12739                |\n",
            "|São Paulo–Congonhas Airport                                            |SBSP|GOL LINHAS AÉREAS S.A. (EX- VRG LINHAS AÉREAS S.A.)|11077           |11212            |22289                |\n",
            "|Pinto Martins – Fortaleza International Airport                        |SBFZ|TAM LINHAS AÉREAS S.A.                             |3740            |3744             |7484                 |\n",
            "|Val de Cans International Airport                                      |SBBE|AZUL LINHAS AÉREAS BRASILEIRAS S/A                 |6001            |6008             |12009                |\n",
            "|Brasília International Airport (Presidente J. Kubitschek Int'l Airport)|SBBR|GOL LINHAS AÉREAS S.A. (EX- VRG LINHAS AÉREAS S.A.)|11775           |12017            |23792                |\n",
            "|Brasília International Airport (Presidente J. Kubitschek Int'l Airport)|SBBR|AZUL LINHAS AÉREAS BRASILEIRAS S/A                 |4562            |4586             |9148                 |\n",
            "|Salgado Filho International Airport                                    |SBPA|AZUL LINHAS AÉREAS BRASILEIRAS S/A                 |7914            |7931             |15845                |\n",
            "|Santos Dumont Airport                                                  |SBRJ|AZUL LINHAS AÉREAS BRASILEIRAS S/A                 |11990           |11939            |23929                |\n",
            "|São Paulo–Congonhas Airport                                            |SBSP|TAM LINHAS AÉREAS S.A.                             |15026           |15015            |30041                |\n",
            "|Viracopos/Campinas International Airport                               |SBKP|AZUL LINHAS AÉREAS BRASILEIRAS S/A                 |41761           |41662            |83423                |\n",
            "|Afonso Pena International Airport                                      |SBCT|AZUL LINHAS AÉREAS BRASILEIRAS S/A                 |6177            |6175             |12352                |\n",
            "|São Paulo–Congonhas Airport                                            |SBSP|AZUL LINHAS AÉREAS BRASILEIRAS S/A                 |5695            |5696             |11391                |\n",
            "|São Paulo–Guarulhos International Airport                              |SBGR|TAM LINHAS AÉREAS S.A.                             |33173           |33181            |66354                |\n",
            "|Deputado Luís Eduardo Magalhães International Airport                  |SBSV|GOL LINHAS AÉREAS S.A. (EX- VRG LINHAS AÉREAS S.A.)|6736            |6596             |13332                |\n",
            "|Recife/Guararapes–Gilberto Freyre International Airport                |SBRF|AZUL LINHAS AÉREAS BRASILEIRAS S/A                 |20492           |20499            |40991                |\n",
            "|Pinto Martins – Fortaleza International Airport                        |SBFZ|GOL LINHAS AÉREAS S.A. (EX- VRG LINHAS AÉREAS S.A.)|4737            |4821             |9558                 |\n",
            "+-----------------------------------------------------------------------+----+---------------------------------------------------+----------------+-----------------+---------------------+\n",
            "only showing top 30 rows\n",
            "\n"
          ]
        }
      ]
    },
    {
      "cell_type": "markdown",
      "source": [
        "> ### A query apresenta redundância mas conseguimos reuzir o shufle de dados unificando em 1 join a query."
      ],
      "metadata": {
        "id": "7fpMpNp-sU-o"
      }
    }
  ],
  "metadata": {
    "kernelspec": {
      "display_name": "base",
      "language": "python",
      "name": "python3"
    },
    "language_info": {
      "name": "python",
      "version": "3.8.3 (default, Jul  2 2020, 16:21:59) \n[GCC 7.3.0]"
    },
    "orig_nbformat": 4,
    "vscode": {
      "interpreter": {
        "hash": "c48b5183a722d06402c8d280c20e25ad7b738892ee51193a8ba38ad33c3a56bf"
      }
    },
    "colab": {
      "provenance": [],
      "include_colab_link": true
    }
  },
  "nbformat": 4,
  "nbformat_minor": 0
}